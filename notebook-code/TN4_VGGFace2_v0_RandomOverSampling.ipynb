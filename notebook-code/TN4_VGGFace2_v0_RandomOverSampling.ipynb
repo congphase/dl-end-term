{
  "nbformat": 4,
  "nbformat_minor": 0,
  "metadata": {
    "colab": {
      "name": "TN3_VGGFace2_v0_RandomOverSampling.ipynb",
      "provenance": [],
      "collapsed_sections": []
    },
    "kernelspec": {
      "name": "python3",
      "display_name": "Python 3"
    },
    "accelerator": "GPU"
  },
  "cells": [
    {
      "cell_type": "code",
      "metadata": {
        "id": "PL21Mz5-OeDg",
        "colab": {
          "base_uri": "https://localhost:8080/"
        },
        "outputId": "901c7fca-e9f2-4c6b-8af6-bab68874c5cb"
      },
      "source": [
        "# Mount \"My Drive\" into /content/drive\r\n",
        "from google.colab import drive\r\n",
        "\r\n",
        "google_drive_dir = \"Final_Project_DL\"  # @param\r\n",
        "#bml-notebooks/\r\n",
        "drive.mount('/content/drive')\r\n",
        "\r\n",
        "mount_point = \"/content/drive/MyDrive/{}\".format(google_drive_dir)\r\n",
        "\r\n",
        "# Change the root directory to your mount_point\r\n",
        "%cd '$mount_point'"
      ],
      "execution_count": 1,
      "outputs": [
        {
          "output_type": "stream",
          "text": [
            "Drive already mounted at /content/drive; to attempt to forcibly remount, call drive.mount(\"/content/drive\", force_remount=True).\n",
            "/content/drive/.shortcut-targets-by-id/1BOvFtzoVhfYNe70lBGxYzhPlDElSrazo/Final_Project_DL\n"
          ],
          "name": "stdout"
        }
      ]
    },
    {
      "cell_type": "markdown",
      "metadata": {
        "papermill": {
          "duration": 0.044808,
          "end_time": "2020-12-18T22:02:11.416442",
          "exception": false,
          "start_time": "2020-12-18T22:02:11.371634",
          "status": "completed"
        },
        "tags": [],
        "id": "eI1PdIKtLrpv"
      },
      "source": [
        "# <span style=\"color: royalblue;\">Load Data</span>\n",
        "Load the image data with labels."
      ]
    },
    {
      "cell_type": "code",
      "metadata": {
        "id": "HM1rN5gqd5aG"
      },
      "source": [
        "import numpy as np\r\n",
        "from src.loadData import loadFer2013\r\n",
        "from keras.utils import to_categorical\r\n"
      ],
      "execution_count": 2,
      "outputs": []
    },
    {
      "cell_type": "code",
      "metadata": {
        "id": "Nt9oKq3mo60M",
        "colab": {
          "base_uri": "https://localhost:8080/"
        },
        "outputId": "6a0ad4b7-4b23-4b14-d8c6-e3309a2a34a5"
      },
      "source": [
        "emotions = {0: 'Angry', 1:'Disgust', 2:'Fear', 3: 'Happy', 4: 'Sad', 5: 'Surprise', 6: 'Neutral'}\r\n",
        "class_names = list(emotions.values())\r\n",
        "class_names"
      ],
      "execution_count": 3,
      "outputs": [
        {
          "output_type": "execute_result",
          "data": {
            "text/plain": [
              "['Angry', 'Disgust', 'Fear', 'Happy', 'Sad', 'Surprise', 'Neutral']"
            ]
          },
          "metadata": {
            "tags": []
          },
          "execution_count": 3
        }
      ]
    },
    {
      "cell_type": "code",
      "metadata": {
        "id": "ct5pobN6eBgW"
      },
      "source": [
        "X_train,X_val,X_test,y_train,y_val,y_test = loadFer2013('fer2013/icml_face_data.csv')\r\n",
        "\r\n",
        "y_train_onehot = to_categorical(y_train)\r\n",
        "y_val_onehot = to_categorical(y_val)\r\n",
        "y_test_onehot = to_categorical(y_test)"
      ],
      "execution_count": 4,
      "outputs": []
    },
    {
      "cell_type": "code",
      "metadata": {
        "colab": {
          "base_uri": "https://localhost:8080/"
        },
        "id": "icEw_PExckCo",
        "outputId": "524beb7e-8fb7-41a8-e696-f4028f5a5aa5"
      },
      "source": [
        "X_train.shape"
      ],
      "execution_count": 5,
      "outputs": [
        {
          "output_type": "execute_result",
          "data": {
            "text/plain": [
              "(28623, 48, 48)"
            ]
          },
          "metadata": {
            "tags": []
          },
          "execution_count": 5
        }
      ]
    },
    {
      "cell_type": "markdown",
      "metadata": {
        "id": "xmRghc5Yvjcv"
      },
      "source": [
        "#Overview"
      ]
    },
    {
      "cell_type": "code",
      "metadata": {
        "id": "tXib-CBVJtDL",
        "colab": {
          "base_uri": "https://localhost:8080/",
          "height": 402
        },
        "outputId": "12106288-0f35-4ae2-bc63-e3601572ddb4"
      },
      "source": [
        "import pandas as pd\r\n",
        "\r\n",
        "df = pd.read_csv('fer2013/icml_face_data.csv')\r\n",
        "df[df.Usage=='Training']"
      ],
      "execution_count": null,
      "outputs": [
        {
          "output_type": "execute_result",
          "data": {
            "text/html": [
              "<div>\n",
              "<style scoped>\n",
              "    .dataframe tbody tr th:only-of-type {\n",
              "        vertical-align: middle;\n",
              "    }\n",
              "\n",
              "    .dataframe tbody tr th {\n",
              "        vertical-align: top;\n",
              "    }\n",
              "\n",
              "    .dataframe thead th {\n",
              "        text-align: right;\n",
              "    }\n",
              "</style>\n",
              "<table border=\"1\" class=\"dataframe\">\n",
              "  <thead>\n",
              "    <tr style=\"text-align: right;\">\n",
              "      <th></th>\n",
              "      <th>emotion</th>\n",
              "      <th>Usage</th>\n",
              "      <th>pixels</th>\n",
              "    </tr>\n",
              "  </thead>\n",
              "  <tbody>\n",
              "    <tr>\n",
              "      <th>0</th>\n",
              "      <td>0</td>\n",
              "      <td>Training</td>\n",
              "      <td>70 80 82 72 58 58 60 63 54 58 60 48 89 115 121...</td>\n",
              "    </tr>\n",
              "    <tr>\n",
              "      <th>1</th>\n",
              "      <td>0</td>\n",
              "      <td>Training</td>\n",
              "      <td>151 150 147 155 148 133 111 140 170 174 182 15...</td>\n",
              "    </tr>\n",
              "    <tr>\n",
              "      <th>2</th>\n",
              "      <td>2</td>\n",
              "      <td>Training</td>\n",
              "      <td>231 212 156 164 174 138 161 173 182 200 106 38...</td>\n",
              "    </tr>\n",
              "    <tr>\n",
              "      <th>3</th>\n",
              "      <td>4</td>\n",
              "      <td>Training</td>\n",
              "      <td>24 32 36 30 32 23 19 20 30 41 21 22 32 34 21 1...</td>\n",
              "    </tr>\n",
              "    <tr>\n",
              "      <th>4</th>\n",
              "      <td>6</td>\n",
              "      <td>Training</td>\n",
              "      <td>4 0 0 0 0 0 0 0 0 0 0 0 3 15 23 28 48 50 58 84...</td>\n",
              "    </tr>\n",
              "    <tr>\n",
              "      <th>...</th>\n",
              "      <td>...</td>\n",
              "      <td>...</td>\n",
              "      <td>...</td>\n",
              "    </tr>\n",
              "    <tr>\n",
              "      <th>28704</th>\n",
              "      <td>2</td>\n",
              "      <td>Training</td>\n",
              "      <td>84 85 85 85 85 85 85 85 86 86 86 87 86 86 91 9...</td>\n",
              "    </tr>\n",
              "    <tr>\n",
              "      <th>28705</th>\n",
              "      <td>0</td>\n",
              "      <td>Training</td>\n",
              "      <td>114 112 113 113 111 111 112 113 115 113 114 11...</td>\n",
              "    </tr>\n",
              "    <tr>\n",
              "      <th>28706</th>\n",
              "      <td>4</td>\n",
              "      <td>Training</td>\n",
              "      <td>74 81 87 89 95 100 98 93 105 120 127 133 146 1...</td>\n",
              "    </tr>\n",
              "    <tr>\n",
              "      <th>28707</th>\n",
              "      <td>0</td>\n",
              "      <td>Training</td>\n",
              "      <td>222 227 203 90 86 90 84 77 94 87 99 119 134 14...</td>\n",
              "    </tr>\n",
              "    <tr>\n",
              "      <th>28708</th>\n",
              "      <td>4</td>\n",
              "      <td>Training</td>\n",
              "      <td>195 199 205 206 205 203 206 209 208 210 212 21...</td>\n",
              "    </tr>\n",
              "  </tbody>\n",
              "</table>\n",
              "<p>28709 rows × 3 columns</p>\n",
              "</div>"
            ],
            "text/plain": [
              "       emotion     Usage                                             pixels\n",
              "0            0  Training  70 80 82 72 58 58 60 63 54 58 60 48 89 115 121...\n",
              "1            0  Training  151 150 147 155 148 133 111 140 170 174 182 15...\n",
              "2            2  Training  231 212 156 164 174 138 161 173 182 200 106 38...\n",
              "3            4  Training  24 32 36 30 32 23 19 20 30 41 21 22 32 34 21 1...\n",
              "4            6  Training  4 0 0 0 0 0 0 0 0 0 0 0 3 15 23 28 48 50 58 84...\n",
              "...        ...       ...                                                ...\n",
              "28704        2  Training  84 85 85 85 85 85 85 85 86 86 86 87 86 86 91 9...\n",
              "28705        0  Training  114 112 113 113 111 111 112 113 115 113 114 11...\n",
              "28706        4  Training  74 81 87 89 95 100 98 93 105 120 127 133 146 1...\n",
              "28707        0  Training  222 227 203 90 86 90 84 77 94 87 99 119 134 14...\n",
              "28708        4  Training  195 199 205 206 205 203 206 209 208 210 212 21...\n",
              "\n",
              "[28709 rows x 3 columns]"
            ]
          },
          "metadata": {
            "tags": []
          },
          "execution_count": 2
        }
      ]
    },
    {
      "cell_type": "code",
      "metadata": {
        "colab": {
          "base_uri": "https://localhost:8080/",
          "height": 128
        },
        "id": "g10G0Rm0J1y3",
        "outputId": "05cb14c4-1591-4c27-e569-cd2df4f3d9b8"
      },
      "source": [
        "with open('fer2013/preprocessed_fer2013.txt','r') as f:\r\n",
        "    inds = f.readlines()\r\n",
        "print(inds[:5])"
      ],
      "execution_count": null,
      "outputs": [
        {
          "output_type": "error",
          "ename": "SyntaxError",
          "evalue": "ignored",
          "traceback": [
            "\u001b[0;36m  File \u001b[0;32m\"<ipython-input-7-28b1aadcc955>\"\u001b[0;36m, line \u001b[0;32m1\u001b[0m\n\u001b[0;31m    dfwith open('fer2013/preprocessed_fer2013.txt','r') as f:\u001b[0m\n\u001b[0m              ^\u001b[0m\n\u001b[0;31mSyntaxError\u001b[0m\u001b[0;31m:\u001b[0m invalid syntax\n"
          ]
        }
      ]
    },
    {
      "cell_type": "code",
      "metadata": {
        "id": "tUjfEN5WVxRy"
      },
      "source": [
        "!rm -r fer2013/removed_img/*.png "
      ],
      "execution_count": null,
      "outputs": []
    },
    {
      "cell_type": "code",
      "metadata": {
        "colab": {
          "base_uri": "https://localhost:8080/",
          "height": 265
        },
        "id": "g8cItP19ST9U",
        "outputId": "d21a5805-a5ee-41e5-e142-ef741df32757"
      },
      "source": [
        "import numpy as np\r\n",
        "import matplotlib.pyplot as plt\r\n",
        "\r\n",
        "id = 4148\r\n",
        "img = np.fromstring(df.pixels[id],sep=' ',dtype=np.uint8).reshape(48,48)\r\n",
        "plt.imshow(img,cmap='gray')\r\n",
        "plt.axis('off')"
      ],
      "execution_count": null,
      "outputs": [
        {
          "output_type": "execute_result",
          "data": {
            "text/plain": [
              "(-0.5, 47.5, 47.5, -0.5)"
            ]
          },
          "metadata": {
            "tags": []
          },
          "execution_count": 24
        },
        {
          "output_type": "display_data",
          "data": {
            "image/png": "[encoded data removed]",
            "text/plain": [
              "<Figure size 432x288 with 1 Axes>"
            ]
          },
          "metadata": {
            "tags": [],
            "needs_background": "light"
          }
        }
      ]
    },
    {
      "cell_type": "code",
      "metadata": {
        "id": "nOMmvcefRPQE"
      },
      "source": [
        "import matplotlib.pyplot as plt\r\n",
        "\r\n",
        "ids = [int(p.strip().split(',')[-1]) for p in inds]\r\n",
        "\r\n",
        "for id in ids:\r\n",
        "    arr = np.fromstring(df.pixels[id],sep=' ',dtype=np.uint8).reshape(48,48)\r\n",
        "    plt.imsave('fer2013/removed_img/{}.png'.format(id),arr)\r\n",
        "# plt.figure(num=87)\r\n",
        "# plt.subplot(1,1,1)\r\n",
        "# plt.imshow(np.fromstring(df.pixels[5439],sep=' ',dtype=np.uint8).reshape(48,48))\r\n",
        "# plt.subplot(2,1,1)\r\n",
        "# plt.imshow(np.fromstring(df.pixels[6458],sep=' ',dtype=np.uint8).reshape(48,48))\r\n",
        "# plt.imsave()"
      ],
      "execution_count": null,
      "outputs": []
    },
    {
      "cell_type": "code",
      "metadata": {
        "id": "H1BtrGajviQk"
      },
      "source": [
        "import matplotlib.pyplot as plt\r\n",
        "import pandas as pd\r\n",
        "\r\n",
        "def plot_compare_distributions(array1, array2, title1='', title2=''):\r\n",
        "    df_array1 = pd.DataFrame()\r\n",
        "    df_array2 = pd.DataFrame()\r\n",
        "    df_array1['emotion'] = array1\r\n",
        "    df_array2['emotion'] = array2\r\n",
        "    \r\n",
        "    fig, axs = plt.subplots(1, 2, figsize=(12, 6), sharey=False)\r\n",
        "    x = emotions.values()\r\n",
        "    \r\n",
        "    y = df_array1['emotion'].value_counts()\r\n",
        "    keys_missed = list(set(emotions.keys()).difference(set(y.keys())))\r\n",
        "    for key_missed in keys_missed:\r\n",
        "        y[key_missed] = 0\r\n",
        "    axs[0].bar(x, y.sort_index())\r\n",
        "    axs[0].set_title(title1)\r\n",
        "    axs[0].grid()\r\n",
        "    \r\n",
        "    y = df_array2['emotion'].value_counts()\r\n",
        "    keys_missed = list(set(emotions.keys()).difference(set(y.keys())))\r\n",
        "    for key_missed in keys_missed:\r\n",
        "        y[key_missed] = 0\r\n",
        "    axs[1].bar(x, y.sort_index())\r\n",
        "    axs[1].set_title(title2)\r\n",
        "    axs[1].grid()\r\n",
        "    \r\n",
        "    plt.show()"
      ],
      "execution_count": null,
      "outputs": []
    },
    {
      "cell_type": "code",
      "metadata": {
        "id": "M_jYK9qtvwFq"
      },
      "source": [
        "plot_compare_distributions(y_train, y_val, title1='train labels', title2='val labels')"
      ],
      "execution_count": null,
      "outputs": []
    },
    {
      "cell_type": "markdown",
      "metadata": {
        "id": "c5gLac_xzyq_"
      },
      "source": [
        "#Imbalance Data"
      ]
    },
    {
      "cell_type": "code",
      "metadata": {
        "id": "oTyNSLwTz1ww"
      },
      "source": [
        "import imblearn\r\n",
        "\r\n",
        "if imblearn.__version__.split('.')[1] != '7':\r\n",
        "   !pip install -U imbalanced-learn"
      ],
      "execution_count": 6,
      "outputs": []
    },
    {
      "cell_type": "code",
      "metadata": {
        "id": "gQqZCIev_L5u"
      },
      "source": [
        "def SMOTE_data(X_train,y_train,mode='smote'):\r\n",
        "    if mode=='random':\r\n",
        "        oversample = imblearn.over_sampling.RandomOverSampler(sampling_strategy='auto')\r\n",
        "    else:\r\n",
        "        oversample = imblearn.over_sampling.SMOTE()\r\n",
        "\r\n",
        "    X_train = X_train.reshape(X_train.shape[0], -1)\r\n",
        "\r\n",
        "    X_train, y_train = oversample.fit_resample(X_train, y_train)\r\n",
        "\r\n",
        "    X_train = X_train.reshape((X_train.shape[0], 48, 48))\r\n",
        "\r\n",
        "    return X_train, y_train"
      ],
      "execution_count": 7,
      "outputs": []
    },
    {
      "cell_type": "code",
      "metadata": {
        "id": "Dz3fxghSAHnV"
      },
      "source": [
        "X_train_smote,y_train_smote= SMOTE_data(X_train,y_train,mode='random')\r\n",
        "y_train_onehot = to_categorical(y_train_smote)"
      ],
      "execution_count": 8,
      "outputs": []
    },
    {
      "cell_type": "markdown",
      "metadata": {
        "id": "-9KsqSFYycZW"
      },
      "source": [
        "#Preprocessing"
      ]
    },
    {
      "cell_type": "code",
      "metadata": {
        "colab": {
          "base_uri": "https://localhost:8080/"
        },
        "id": "lIAx61wiye5z",
        "outputId": "4e4d6fab-ce70-4cbe-f4c0-43e3a7be2cb2"
      },
      "source": [
        "def preprocessX(X):\r\n",
        "    # X = X.astype(np.float32)\r\n",
        "    # X = (X - X.mean())/X.std()\r\n",
        "    return np.expand_dims(X,axis=-1)\r\n",
        "\r\n",
        "X_processed_train = preprocessX(X_train_smote)\r\n",
        "X_processed_val = preprocessX(X_val)\r\n",
        "X_processed_test = preprocessX(X_test)\r\n",
        "X_processed_train.shape,X_processed_val.shape,X_processed_test.shape"
      ],
      "execution_count": 9,
      "outputs": [
        {
          "output_type": "execute_result",
          "data": {
            "text/plain": [
              "((50351, 48, 48, 1), (3589, 48, 48, 1), (3589, 48, 48, 1))"
            ]
          },
          "metadata": {
            "tags": []
          },
          "execution_count": 9
        }
      ]
    },
    {
      "cell_type": "markdown",
      "metadata": {
        "id": "-DkOqeRecp0l"
      },
      "source": [
        "#Training"
      ]
    },
    {
      "cell_type": "code",
      "metadata": {
        "id": "WfXhrNLKi0sy"
      },
      "source": [
        "import keras\r\n",
        "from keras.preprocessing import image\r\n",
        "from keras import applications as keras_applications"
      ],
      "execution_count": 10,
      "outputs": []
    },
    {
      "cell_type": "code",
      "metadata": {
        "colab": {
          "base_uri": "https://localhost:8080/"
        },
        "id": "zncRqtUejaMI",
        "outputId": "ca65608a-5b88-47a6-e1f0-55829c1e2f55"
      },
      "source": [
        "!pip install keras_applications\r\n",
        "!pip install git+https://github.com/rcmalli/keras-vggface.git"
      ],
      "execution_count": 11,
      "outputs": [
        {
          "output_type": "stream",
          "text": [
            "Collecting keras_applications\n",
            "\u001b[?25l  Downloading https://files.pythonhosted.org/packages/71/e3/19762fdfc62877ae9102edf6342d71b28fbfd9dea3d2f96a882ce099b03f/Keras_Applications-1.0.8-py3-none-any.whl (50kB)\n",
            "\r\u001b[K     |██████▌                         | 10kB 21.9MB/s eta 0:00:01\r\u001b[K     |█████████████                   | 20kB 27.2MB/s eta 0:00:01\r\u001b[K     |███████████████████▍            | 30kB 22.3MB/s eta 0:00:01\r\u001b[K     |█████████████████████████▉      | 40kB 20.9MB/s eta 0:00:01\r\u001b[K     |████████████████████████████████| 51kB 6.1MB/s \n",
            "\u001b[?25hRequirement already satisfied: h5py in /usr/local/lib/python3.6/dist-packages (from keras_applications) (2.10.0)\n",
            "Requirement already satisfied: numpy>=1.9.1 in /usr/local/lib/python3.6/dist-packages (from keras_applications) (1.19.5)\n",
            "Requirement already satisfied: six in /usr/local/lib/python3.6/dist-packages (from h5py->keras_applications) (1.15.0)\n",
            "Installing collected packages: keras-applications\n",
            "Successfully installed keras-applications-1.0.8\n",
            "Collecting git+https://github.com/rcmalli/keras-vggface.git\n",
            "  Cloning https://github.com/rcmalli/keras-vggface.git to /tmp/pip-req-build-52ormp22\n",
            "  Running command git clone -q https://github.com/rcmalli/keras-vggface.git /tmp/pip-req-build-52ormp22\n",
            "Requirement already satisfied: numpy>=1.9.1 in /usr/local/lib/python3.6/dist-packages (from keras-vggface==0.6) (1.19.5)\n",
            "Requirement already satisfied: scipy>=0.14 in /usr/local/lib/python3.6/dist-packages (from keras-vggface==0.6) (1.4.1)\n",
            "Requirement already satisfied: h5py in /usr/local/lib/python3.6/dist-packages (from keras-vggface==0.6) (2.10.0)\n",
            "Requirement already satisfied: pillow in /usr/local/lib/python3.6/dist-packages (from keras-vggface==0.6) (7.0.0)\n",
            "Requirement already satisfied: keras in /usr/local/lib/python3.6/dist-packages (from keras-vggface==0.6) (2.4.3)\n",
            "Requirement already satisfied: six>=1.9.0 in /usr/local/lib/python3.6/dist-packages (from keras-vggface==0.6) (1.15.0)\n",
            "Requirement already satisfied: pyyaml in /usr/local/lib/python3.6/dist-packages (from keras-vggface==0.6) (3.13)\n",
            "Building wheels for collected packages: keras-vggface\n",
            "  Building wheel for keras-vggface (setup.py) ... \u001b[?25l\u001b[?25hdone\n",
            "  Created wheel for keras-vggface: filename=keras_vggface-0.6-cp36-none-any.whl size=8310 sha256=4e5a480f7f168f4c80c398608cefb635bdd3b2c8f9b67820470b96c61ae0f876\n",
            "  Stored in directory: /tmp/pip-ephem-wheel-cache-zbhppw7s/wheels/36/07/46/06c25ce8e9cd396dabe151ea1d8a2bc28dafcb11321c1f3a6d\n",
            "Successfully built keras-vggface\n",
            "Installing collected packages: keras-vggface\n",
            "Successfully installed keras-vggface-0.6\n"
          ],
          "name": "stdout"
        }
      ]
    },
    {
      "cell_type": "code",
      "metadata": {
        "id": "cFzE7T-qjdO1"
      },
      "source": [
        "from keras_vggface.vggface import VGGFace\r\n",
        "from keras_vggface import utils"
      ],
      "execution_count": 12,
      "outputs": []
    },
    {
      "cell_type": "code",
      "metadata": {
        "id": "c2b8HuspiHVx"
      },
      "source": [
        "from copy import deepcopy as copy\r\n",
        "\r\n",
        "def smooth_labels(y, smooth_factor):\r\n",
        "    '''Convert a matrix of one-hot row-vector labels into smoothed versions.\r\n",
        "\r\n",
        "    # Arguments\r\n",
        "        y: matrix of one-hot row-vector labels to be smoothed\r\n",
        "        smooth_factor: label smoothing factor (between 0 and 1)\r\n",
        "\r\n",
        "    # Returns\r\n",
        "        A matrix of smoothed labels.\r\n",
        "    '''\r\n",
        "    assert len(y.shape) == 2, 'input should be a batch of one-hot-encoded data'\r\n",
        "    y2 = copy(y)\r\n",
        "    if 0 <= smooth_factor <= 1:\r\n",
        "        # label smoothing ref: https://www.robots.ox.ac.uk/~vgg/rg/papers/reinception.pdf\r\n",
        "        y2 *= 1 - smooth_factor\r\n",
        "        y2 += smooth_factor / y.shape[1]\r\n",
        "    else:\r\n",
        "        raise Exception(\r\n",
        "            'Invalid label smoothing factor: ' + str(smooth_factor))\r\n",
        "    return y2"
      ],
      "execution_count": 13,
      "outputs": []
    },
    {
      "cell_type": "code",
      "metadata": {
        "id": "CHi8FiFwiKuV"
      },
      "source": [
        "from keras.utils import Sequence\r\n",
        "from keras.utils import to_categorical\r\n",
        "import cv2\r\n",
        "from math import floor\r\n",
        "\r\n",
        "class data_sequence(Sequence):\r\n",
        "    '''\r\n",
        "      yield sequence of data\r\n",
        "      features -- list of features\r\n",
        "      labels -- list of labels\r\n",
        "      target_channels {int} -- 1 (gray) or 3(RGB)\r\n",
        "    '''\r\n",
        "    def __init__(self, features, labels, batch_size=128, target_dim=(224,224), \r\n",
        "                 n_classes=7, shuffle=True, smooth=0.0):\r\n",
        "        'Initialization'\r\n",
        "        assert len(features)==len(labels), 'number of feature and labels not consistent'\r\n",
        "        self.features = features\r\n",
        "        self.labels = labels\r\n",
        "        self.batch_size = batch_size\r\n",
        "        self.target_dim = target_dim\r\n",
        "        self.target_channels = 3\r\n",
        "        self.n_classes = n_classes\r\n",
        "        self.shuffle = shuffle\r\n",
        "        self.smooth = smooth\r\n",
        "        self.sample_count = len(labels)\r\n",
        "        self.indexes = np.arange(self.sample_count)\r\n",
        "        self.on_epoch_end()\r\n",
        "#         self.verbose = verbose\r\n",
        "\r\n",
        "    def __len__(self):\r\n",
        "        'Denotes the number of batches per epoch'\r\n",
        "        return floor(self.sample_count / self.batch_size)\r\n",
        "\r\n",
        "    def __gray2RGB__(self,x):\r\n",
        "      if len(x.shape)==2:\r\n",
        "        return np.stack((x,x,x),-1)\r\n",
        "      else:\r\n",
        "        assert len(x.shape)==3\r\n",
        "        if len(x[0,0,:]) == 1:\r\n",
        "          return np.stack((x[:,:,0],x[:,:,0],x[:,:,0]),-1)\r\n",
        "        else:\r\n",
        "          assert len(x[0,0,:])==self.target_channels\r\n",
        "      return x\r\n",
        "\r\n",
        "\r\n",
        "    def __getitem__(self, idx):\r\n",
        "        'Generate one batch of data'\r\n",
        "        # Generate indexes of the batch\r\n",
        "        indexes = self.indexes[idx * self.batch_size : (idx + 1) * self.batch_size]\r\n",
        "        X = np.empty((self.batch_size, *self.target_dim, self.target_channels))\r\n",
        "        Y = np.empty((self.batch_size, self.n_classes))\r\n",
        "        for i,ind in enumerate(indexes):\r\n",
        "          x = self.features[ind]\r\n",
        "          # resize image to the target size \r\n",
        "          x = cv2.resize(x,self.target_dim,interpolation=cv2.INTER_CUBIC)\r\n",
        "          x = self.__gray2RGB__(x)\r\n",
        "          X[i] = utils.preprocess_input(x, version=2) # or version=2 for VGGFace2 ResNet50  \r\n",
        "          y = self.labels[ind]\r\n",
        "          if isinstance(y,int):\r\n",
        "            Y[i]=to_categorical(y,7)\r\n",
        "          else:\r\n",
        "            assert len(y)==self.n_classes\r\n",
        "            Y[i]=y\r\n",
        "        X = np.array(X)\r\n",
        "        Y = np.array(Y)\r\n",
        "        if self.smooth > 0.0:\r\n",
        "          smooth_labels(Y, self.smooth)\r\n",
        "        return X,Y\r\n",
        "\r\n",
        "    def on_epoch_end(self):\r\n",
        "        'Updates indexes after each epoch'\r\n",
        "        if self.shuffle == True:\r\n",
        "            np.random.shuffle(self.indexes)"
      ],
      "execution_count": 15,
      "outputs": []
    },
    {
      "cell_type": "markdown",
      "metadata": {
        "id": "SQARMLYepeAF"
      },
      "source": [
        "#Model"
      ]
    },
    {
      "cell_type": "code",
      "metadata": {
        "id": "ouwQvEhoqZ6u"
      },
      "source": [
        "vggmodel = keras.models.load_model('pretrained_model/VGGfaceTransfer_dropout_smoothing_keras_model')\r\n",
        "# vggmodel = keras.models.Model(vggmodel.inputs, vggmodel.layers[-2].output)"
      ],
      "execution_count": 16,
      "outputs": []
    },
    {
      "cell_type": "code",
      "metadata": {
        "id": "nd4dL2rGut6n"
      },
      "source": [
        "train_sequence = data_sequence(X_processed_train,y_train_onehot,batch_size=64,target_dim=(224,224),n_classes=7,shuffle=True,smooth=0.07)\r\n",
        "val_sequence   = data_sequence(X_processed_val,  y_val_onehot,  batch_size=64,target_dim=(224,224),n_classes=7,shuffle=True,smooth=0.0)\r\n",
        "test_sequence  = data_sequence(X_processed_test, y_test_onehot, batch_size=64,target_dim=(224,224),n_classes=7,shuffle=True,smooth=0.0)"
      ],
      "execution_count": 17,
      "outputs": []
    },
    {
      "cell_type": "code",
      "metadata": {
        "colab": {
          "base_uri": "https://localhost:8080/"
        },
        "id": "oWNBHwBi1T26",
        "outputId": "fb5a21a1-cab3-46bf-c087-1c1276b7a1df"
      },
      "source": [
        "vggmodel.layers[0].trainable = False\r\n",
        "vggmodel.summary()"
      ],
      "execution_count": null,
      "outputs": [
        {
          "output_type": "stream",
          "text": [
            "Model: \"sequential\"\n",
            "_________________________________________________________________\n",
            "Layer (type)                 Output Shape              Param #   \n",
            "=================================================================\n",
            "vggface_resnet50 (Functional (None, 1, 1, 2048)        23561152  \n",
            "_________________________________________________________________\n",
            "flatten (Flatten)            (None, 2048)              0         \n",
            "_________________________________________________________________\n",
            "dropout (Dropout)            (None, 2048)              0         \n",
            "_________________________________________________________________\n",
            "dense (Dense)                (None, 2048)              4196352   \n",
            "_________________________________________________________________\n",
            "dropout_1 (Dropout)          (None, 2048)              0         \n",
            "_________________________________________________________________\n",
            "dense_1 (Dense)              (None, 1024)              2098176   \n",
            "_________________________________________________________________\n",
            "classifer (Dense)            (None, 7)                 7175      \n",
            "=================================================================\n",
            "Total params: 29,862,855\n",
            "Trainable params: 6,301,703\n",
            "Non-trainable params: 23,561,152\n",
            "_________________________________________________________________\n"
          ],
          "name": "stdout"
        }
      ]
    },
    {
      "cell_type": "code",
      "metadata": {
        "colab": {
          "base_uri": "https://localhost:8080/"
        },
        "id": "K3gjQ5b-aykT",
        "outputId": "dd0d05a1-debb-4fed-c64f-4e1e9426857f"
      },
      "source": [
        "vggmodel.compile(optimizer = keras.optimizers.Adam(), loss='categorical_crossentropy', metrics=['accuracy'])\r\n",
        "hist2 = vggmodel.fit_generator(generator = train_sequence,\r\n",
        "                            validation_data = val_sequence,\r\n",
        "                            epochs = 20)"
      ],
      "execution_count": null,
      "outputs": [
        {
          "output_type": "stream",
          "text": [
            "/usr/local/lib/python3.6/dist-packages/tensorflow/python/keras/engine/training.py:1844: UserWarning: `Model.fit_generator` is deprecated and will be removed in a future version. Please use `Model.fit`, which supports generators.\n",
            "  warnings.warn('`Model.fit_generator` is deprecated and '\n"
          ],
          "name": "stderr"
        },
        {
          "output_type": "stream",
          "text": [
            "Epoch 1/20\n",
            "786/786 [==============================] - 158s 198ms/step - loss: 0.4835 - accuracy: 0.8489 - val_loss: 1.1850 - val_accuracy: 0.6406\n",
            "Epoch 2/20\n",
            "786/786 [==============================] - 154s 195ms/step - loss: 0.3484 - accuracy: 0.8802 - val_loss: 1.2824 - val_accuracy: 0.6498\n",
            "Epoch 3/20\n",
            "786/786 [==============================] - 154s 195ms/step - loss: 0.3238 - accuracy: 0.8911 - val_loss: 1.2949 - val_accuracy: 0.6521\n",
            "Epoch 4/20\n",
            "786/786 [==============================] - 154s 195ms/step - loss: 0.2861 - accuracy: 0.9020 - val_loss: 1.3020 - val_accuracy: 0.6537\n",
            "Epoch 5/20\n",
            "786/786 [==============================] - 154s 195ms/step - loss: 0.2755 - accuracy: 0.9069 - val_loss: 1.3173 - val_accuracy: 0.6540\n",
            "Epoch 6/20\n",
            "786/786 [==============================] - 154s 195ms/step - loss: 0.2511 - accuracy: 0.9158 - val_loss: 1.3146 - val_accuracy: 0.6618\n",
            "Epoch 7/20\n",
            "786/786 [==============================] - 154s 196ms/step - loss: 0.2415 - accuracy: 0.9188 - val_loss: 1.3306 - val_accuracy: 0.6562\n",
            "Epoch 8/20\n",
            "786/786 [==============================] - 154s 195ms/step - loss: 0.2262 - accuracy: 0.9252 - val_loss: 1.3807 - val_accuracy: 0.6574\n",
            "Epoch 9/20\n",
            "786/786 [==============================] - 154s 195ms/step - loss: 0.2213 - accuracy: 0.9255 - val_loss: 1.3907 - val_accuracy: 0.6523\n",
            "Epoch 10/20\n",
            "786/786 [==============================] - 154s 196ms/step - loss: 0.2120 - accuracy: 0.9270 - val_loss: 1.5282 - val_accuracy: 0.6537\n",
            "Epoch 11/20\n",
            "786/786 [==============================] - 154s 195ms/step - loss: 0.2164 - accuracy: 0.9278 - val_loss: 1.5241 - val_accuracy: 0.6509\n",
            "Epoch 12/20\n",
            "786/786 [==============================] - 154s 195ms/step - loss: 0.1993 - accuracy: 0.9330 - val_loss: 1.4765 - val_accuracy: 0.6507\n",
            "Epoch 13/20\n",
            "786/786 [==============================] - 154s 195ms/step - loss: 0.2006 - accuracy: 0.9337 - val_loss: 1.5020 - val_accuracy: 0.6468\n",
            "Epoch 14/20\n",
            "786/786 [==============================] - 154s 195ms/step - loss: 0.1887 - accuracy: 0.9380 - val_loss: 1.5074 - val_accuracy: 0.6574\n",
            "Epoch 15/20\n",
            "786/786 [==============================] - 153s 195ms/step - loss: 0.1799 - accuracy: 0.9398 - val_loss: 1.5354 - val_accuracy: 0.6462\n",
            "Epoch 16/20\n",
            "786/786 [==============================] - 154s 195ms/step - loss: 0.1819 - accuracy: 0.9393 - val_loss: 1.5972 - val_accuracy: 0.6582\n",
            "Epoch 17/20\n",
            "786/786 [==============================] - 153s 195ms/step - loss: 0.1759 - accuracy: 0.9423 - val_loss: 1.5855 - val_accuracy: 0.6582\n",
            "Epoch 18/20\n",
            "786/786 [==============================] - 154s 195ms/step - loss: 0.1703 - accuracy: 0.9450 - val_loss: 1.5368 - val_accuracy: 0.6593\n",
            "Epoch 19/20\n",
            "786/786 [==============================] - 154s 195ms/step - loss: 0.1650 - accuracy: 0.9466 - val_loss: 1.6749 - val_accuracy: 0.6423\n",
            "Epoch 20/20\n",
            "786/786 [==============================] - 154s 195ms/step - loss: 0.1585 - accuracy: 0.9476 - val_loss: 1.7016 - val_accuracy: 0.6465\n"
          ],
          "name": "stdout"
        }
      ]
    },
    {
      "cell_type": "code",
      "metadata": {
        "colab": {
          "base_uri": "https://localhost:8080/",
          "height": 229
        },
        "id": "2JCuGekOGY21",
        "outputId": "b8264cdb-a030-4eb1-c552-3f3ee483d305"
      },
      "source": [
        "import matplotlib.pyplot as plt\r\n",
        "\r\n",
        "plt.figure(figsize=(8,3))\r\n",
        "plt.subplot(1,2,1)\r\n",
        "plt.plot(hist2.history['accuracy'])\r\n",
        "plt.plot(hist2.history['val_accuracy'])\r\n",
        "plt.subplot(1,2,2)\r\n",
        "plt.plot(hist2.history['loss'])\r\n",
        "plt.plot(hist2.history['val_loss'])"
      ],
      "execution_count": null,
      "outputs": [
        {
          "output_type": "execute_result",
          "data": {
            "text/plain": [
              "[<matplotlib.lines.Line2D at 0x7f2f02089208>]"
            ]
          },
          "metadata": {
            "tags": []
          },
          "execution_count": 52
        },
        {
          "output_type": "display_data",
          "data": {
            "image/png": "[encoded data removed]",
            "text/plain": [
              "<Figure size 576x216 with 2 Axes>"
            ]
          },
          "metadata": {
            "tags": [],
            "needs_background": "light"
          }
        }
      ]
    },
    {
      "cell_type": "code",
      "metadata": {
        "id": "3624OIYxg47d"
      },
      "source": [
        "vggmodel.save('saved_model/vggface2_lr001_removed_hist.h5')"
      ],
      "execution_count": null,
      "outputs": []
    },
    {
      "cell_type": "markdown",
      "metadata": {
        "id": "vH-8B4COzB3L"
      },
      "source": [
        "### finetune all layer, lr=1e-4"
      ]
    },
    {
      "cell_type": "code",
      "metadata": {
        "colab": {
          "base_uri": "https://localhost:8080/"
        },
        "id": "PeTPuDqPGK3Y",
        "outputId": "14a46b23-bb16-4ebf-9f92-5f2e64deef4c"
      },
      "source": [
        "vggmodel.summary()"
      ],
      "execution_count": null,
      "outputs": [
        {
          "output_type": "stream",
          "text": [
            "Model: \"sequential\"\n",
            "_________________________________________________________________\n",
            "Layer (type)                 Output Shape              Param #   \n",
            "=================================================================\n",
            "vggface_resnet50 (Functional (None, 1, 1, 2048)        23561152  \n",
            "_________________________________________________________________\n",
            "flatten (Flatten)            (None, 2048)              0         \n",
            "_________________________________________________________________\n",
            "dropout (Dropout)            (None, 2048)              0         \n",
            "_________________________________________________________________\n",
            "dense (Dense)                (None, 2048)              4196352   \n",
            "_________________________________________________________________\n",
            "dropout_1 (Dropout)          (None, 2048)              0         \n",
            "_________________________________________________________________\n",
            "dense_1 (Dense)              (None, 1024)              2098176   \n",
            "_________________________________________________________________\n",
            "classifer (Dense)            (None, 7)                 7175      \n",
            "=================================================================\n",
            "Total params: 29,862,855\n",
            "Trainable params: 6,301,703\n",
            "Non-trainable params: 23,561,152\n",
            "_________________________________________________________________\n"
          ],
          "name": "stdout"
        }
      ]
    },
    {
      "cell_type": "code",
      "metadata": {
        "id": "WEMUr1wGzB3M"
      },
      "source": [
        "for layer in vggmodel.layers[0].layers:\n",
        "    if 'bn' not in layer.name:\n",
        "        layer.trainable = True"
      ],
      "execution_count": null,
      "outputs": []
    },
    {
      "cell_type": "code",
      "metadata": {
        "colab": {
          "base_uri": "https://localhost:8080/"
        },
        "id": "u1xy-IyDzB3N",
        "outputId": "e5381c59-7bc2-467d-b989-89ef3dc013f9"
      },
      "source": [
        "vggmodel.compile(optimizer = keras.optimizers.Adam(1e-4), loss='categorical_crossentropy', metrics=['accuracy'])\n",
        "hist = vggmodel.fit_generator(generator = train_sequence,\n",
        "                            validation_data = val_sequence,\n",
        "                            epochs = 10)"
      ],
      "execution_count": null,
      "outputs": [
        {
          "output_type": "stream",
          "text": [
            "/usr/local/lib/python3.6/dist-packages/tensorflow/python/keras/engine/training.py:1844: UserWarning: `Model.fit_generator` is deprecated and will be removed in a future version. Please use `Model.fit`, which supports generators.\n",
            "  warnings.warn('`Model.fit_generator` is deprecated and '\n"
          ],
          "name": "stderr"
        },
        {
          "output_type": "stream",
          "text": [
            "Epoch 1/10\n",
            "786/786 [==============================] - 157s 197ms/step - loss: 0.1291 - accuracy: 0.9581 - val_loss: 1.6835 - val_accuracy: 0.6585\n",
            "Epoch 2/10\n",
            "786/786 [==============================] - 154s 195ms/step - loss: 0.0939 - accuracy: 0.9683 - val_loss: 1.7320 - val_accuracy: 0.6602\n",
            "Epoch 3/10\n",
            "786/786 [==============================] - 154s 195ms/step - loss: 0.0894 - accuracy: 0.9705 - val_loss: 1.7523 - val_accuracy: 0.6585\n",
            "Epoch 4/10\n",
            "786/786 [==============================] - 154s 196ms/step - loss: 0.0832 - accuracy: 0.9712 - val_loss: 1.7576 - val_accuracy: 0.6616\n",
            "Epoch 5/10\n",
            "786/786 [==============================] - 154s 196ms/step - loss: 0.0743 - accuracy: 0.9744 - val_loss: 1.7887 - val_accuracy: 0.6618\n",
            "Epoch 6/10\n",
            "786/786 [==============================] - 154s 196ms/step - loss: 0.0710 - accuracy: 0.9756 - val_loss: 1.8072 - val_accuracy: 0.6638\n",
            "Epoch 7/10\n",
            "786/786 [==============================] - 154s 196ms/step - loss: 0.0729 - accuracy: 0.9751 - val_loss: 1.8027 - val_accuracy: 0.6638\n",
            "Epoch 8/10\n",
            "786/786 [==============================] - 154s 196ms/step - loss: 0.0710 - accuracy: 0.9747 - val_loss: 1.8178 - val_accuracy: 0.6638\n",
            "Epoch 9/10\n",
            "786/786 [==============================] - 154s 195ms/step - loss: 0.0641 - accuracy: 0.9771 - val_loss: 1.8409 - val_accuracy: 0.6641\n",
            "Epoch 10/10\n",
            "786/786 [==============================] - 154s 195ms/step - loss: 0.0674 - accuracy: 0.9766 - val_loss: 1.8498 - val_accuracy: 0.6643\n"
          ],
          "name": "stdout"
        }
      ]
    },
    {
      "cell_type": "code",
      "metadata": {
        "id": "zoZVUIfUzB3O"
      },
      "source": [
        "for key in ['accuracy','val_accuracy','loss','val_loss']:\n",
        "    hist.history[key] = hist2.history[key] + hist.history[key]"
      ],
      "execution_count": null,
      "outputs": []
    },
    {
      "cell_type": "code",
      "metadata": {
        "colab": {
          "base_uri": "https://localhost:8080/",
          "height": 228
        },
        "id": "jvTsIYgezB3O",
        "outputId": "8dda4338-5b45-4240-c537-1ba1221a39d8"
      },
      "source": [
        "plt.figure(figsize=(8,3))\n",
        "plt.subplot(1,2,1)\n",
        "plt.plot(hist.history['accuracy'])\n",
        "plt.plot(hist.history['val_accuracy'])\n",
        "plt.subplot(1,2,2)\n",
        "plt.plot(hist.history['loss'])\n",
        "plt.plot(hist.history['val_loss'])"
      ],
      "execution_count": null,
      "outputs": [
        {
          "output_type": "execute_result",
          "data": {
            "text/plain": [
              "[<matplotlib.lines.Line2D at 0x7f2d04754860>]"
            ]
          },
          "metadata": {
            "tags": []
          },
          "execution_count": 57
        },
        {
          "output_type": "display_data",
          "data": {
            "image/png": "[encoded data removed]",
            "text/plain": [
              "<Figure size 576x216 with 2 Axes>"
            ]
          },
          "metadata": {
            "tags": [],
            "needs_background": "light"
          }
        }
      ]
    },
    {
      "cell_type": "markdown",
      "metadata": {
        "id": "oUP8yxbMNfzS"
      },
      "source": [
        ""
      ]
    },
    {
      "cell_type": "markdown",
      "metadata": {
        "id": "-of2KuBuzB3P"
      },
      "source": [
        "### finetune further all, lr=1e-5"
      ]
    },
    {
      "cell_type": "code",
      "metadata": {
        "id": "7_wm01pZNoeD"
      },
      "source": [
        "ls saved_checkpoint/Checkpoint/"
      ],
      "execution_count": null,
      "outputs": []
    },
    {
      "cell_type": "code",
      "metadata": {
        "colab": {
          "base_uri": "https://localhost:8080/"
        },
        "id": "wsocI8XazB3P",
        "outputId": "885e6c30-6f01-4f60-d673-56f841d4e866"
      },
      "source": [
        "from keras.callbacks import ModelCheckpoint\n",
        "check_point = ModelCheckpoint('saved_checkpoint/Checkpoint/VGGfaceTransfer_histequal.h5', \n",
        "                              monitor='val_acc', verbose=0, save_best_only=True,\n",
        "                              save_weights_only=False, mode='auto', period=1)\n",
        "\n",
        "\n",
        "vggmodel.compile(optimizer = keras.optimizers.Adam(1e-4), loss='categorical_crossentropy', metrics=['accuracy'])\n",
        "hist3 = vggmodel.fit_generator(generator = train_sequence,\n",
        "                            validation_data = val_sequence,\n",
        "                            epochs = 10,\n",
        "                            callbacks=[check_point])"
      ],
      "execution_count": null,
      "outputs": [
        {
          "output_type": "stream",
          "text": [
            "WARNING:tensorflow:`period` argument is deprecated. Please use `save_freq` to specify the frequency in number of batches seen.\n",
            "Epoch 1/10\n"
          ],
          "name": "stdout"
        },
        {
          "output_type": "stream",
          "text": [
            "/usr/local/lib/python3.6/dist-packages/tensorflow/python/keras/engine/training.py:1844: UserWarning: `Model.fit_generator` is deprecated and will be removed in a future version. Please use `Model.fit`, which supports generators.\n",
            "  warnings.warn('`Model.fit_generator` is deprecated and '\n"
          ],
          "name": "stderr"
        },
        {
          "output_type": "stream",
          "text": [
            "786/786 [==============================] - 157s 197ms/step - loss: 0.0542 - accuracy: 0.9812 - val_loss: 2.0022 - val_accuracy: 0.6610\n",
            "WARNING:tensorflow:Can save best model only with val_acc available, skipping.\n",
            "Epoch 2/10\n",
            "786/786 [==============================] - 154s 195ms/step - loss: 0.0601 - accuracy: 0.9785 - val_loss: 1.9963 - val_accuracy: 0.6629\n",
            "WARNING:tensorflow:Can save best model only with val_acc available, skipping.\n",
            "Epoch 3/10\n",
            "786/786 [==============================] - 154s 195ms/step - loss: 0.0561 - accuracy: 0.9804 - val_loss: 1.9420 - val_accuracy: 0.6616\n",
            "WARNING:tensorflow:Can save best model only with val_acc available, skipping.\n",
            "Epoch 4/10\n",
            "786/786 [==============================] - 154s 195ms/step - loss: 0.0591 - accuracy: 0.9787 - val_loss: 1.9446 - val_accuracy: 0.6624\n",
            "WARNING:tensorflow:Can save best model only with val_acc available, skipping.\n",
            "Epoch 5/10\n",
            "786/786 [==============================] - 154s 196ms/step - loss: 0.0543 - accuracy: 0.9807 - val_loss: 1.9644 - val_accuracy: 0.6599\n",
            "WARNING:tensorflow:Can save best model only with val_acc available, skipping.\n",
            "Epoch 6/10\n",
            "786/786 [==============================] - 154s 195ms/step - loss: 0.0532 - accuracy: 0.9819 - val_loss: 1.9756 - val_accuracy: 0.6588\n",
            "WARNING:tensorflow:Can save best model only with val_acc available, skipping.\n",
            "Epoch 7/10\n",
            "786/786 [==============================] - 154s 195ms/step - loss: 0.0562 - accuracy: 0.9806 - val_loss: 1.9647 - val_accuracy: 0.6610\n",
            "WARNING:tensorflow:Can save best model only with val_acc available, skipping.\n",
            "Epoch 8/10\n",
            "786/786 [==============================] - 154s 196ms/step - loss: 0.0506 - accuracy: 0.9823 - val_loss: 1.9962 - val_accuracy: 0.6576\n",
            "WARNING:tensorflow:Can save best model only with val_acc available, skipping.\n",
            "Epoch 9/10\n",
            "786/786 [==============================] - 154s 195ms/step - loss: 0.0541 - accuracy: 0.9810 - val_loss: 1.9713 - val_accuracy: 0.6610\n",
            "WARNING:tensorflow:Can save best model only with val_acc available, skipping.\n",
            "Epoch 10/10\n",
            "786/786 [==============================] - 154s 196ms/step - loss: 0.0582 - accuracy: 0.9795 - val_loss: 1.9803 - val_accuracy: 0.6582\n",
            "WARNING:tensorflow:Can save best model only with val_acc available, skipping.\n"
          ],
          "name": "stdout"
        }
      ]
    },
    {
      "cell_type": "code",
      "metadata": {
        "colab": {
          "background_save": true
        },
        "id": "-FRL6vW6zB3Q",
        "outputId": "321f273a-9c60-4112-9852-aa950b497b54"
      },
      "source": [
        "ls"
      ],
      "execution_count": null,
      "outputs": [
        {
          "output_type": "stream",
          "text": [
            "challenges-in-representation-learning-facial-expression-recognition-challenge.zip\n",
            "example_submission.csv\n",
            "\u001b[0m\u001b[01;34mfer2013\u001b[0m/\n",
            "fer2013.tar.gz\n",
            "icml_face_data.csv\n",
            "\u001b[01;34msample_data\u001b[0m/\n",
            "test.csv\n",
            "train.csv\n"
          ],
          "name": "stdout"
        }
      ]
    },
    {
      "cell_type": "code",
      "metadata": {
        "colab": {
          "background_save": true
        },
        "id": "idwFUguyzB3R"
      },
      "source": [
        "for key in ['accuracy','val_accuracy','loss','val_loss']:\n",
        "    hist.history[key] = hist.history[key] + hist3.history[key]"
      ],
      "execution_count": null,
      "outputs": []
    },
    {
      "cell_type": "code",
      "metadata": {
        "colab": {
          "background_save": true
        },
        "id": "5o6sC2w-zB3R",
        "outputId": "eae1c9fd-f263-4821-d3dc-5a5addeb27fe"
      },
      "source": [
        "plt.figure(figsize=(8,3))\n",
        "plt.subplot(1,2,1)\n",
        "plt.plot(hist.history['accuracy'])\n",
        "plt.plot(hist.history['val_accuracy'])\n",
        "plt.subplot(1,2,2)\n",
        "plt.plot(hist.history['loss'])\n",
        "plt.plot(hist.history['val_loss'])"
      ],
      "execution_count": null,
      "outputs": [
        {
          "output_type": "execute_result",
          "data": {
            "text/plain": [
              "[<matplotlib.lines.Line2D at 0x7f9809112240>]"
            ]
          },
          "metadata": {
            "tags": []
          },
          "execution_count": 0
        },
        {
          "output_type": "display_data",
          "data": {
            "image/png": "[encoded data removed]",
            "text/plain": [
              "<Figure size 576x216 with 2 Axes>"
            ]
          },
          "metadata": {
            "tags": []
          }
        }
      ]
    },
    {
      "cell_type": "markdown",
      "metadata": {
        "id": "yFVrMtoIaOrH"
      },
      "source": [
        "#Test"
      ]
    },
    {
      "cell_type": "code",
      "metadata": {
        "colab": {
          "base_uri": "https://localhost:8080/"
        },
        "id": "fQLglRplT8bx",
        "outputId": "8e951413-815e-428b-e051-5bfaa8a0c81c"
      },
      "source": [
        "vggmodel.evaluate(val_sequence)"
      ],
      "execution_count": 18,
      "outputs": [
        {
          "output_type": "stream",
          "text": [
            "56/56 [==============================] - 18s 168ms/step - loss: 1.6790 - accuracy: 0.6761\n"
          ],
          "name": "stdout"
        },
        {
          "output_type": "execute_result",
          "data": {
            "text/plain": [
              "[1.6790225505828857, 0.6760602593421936]"
            ]
          },
          "metadata": {
            "tags": []
          },
          "execution_count": 18
        }
      ]
    },
    {
      "cell_type": "code",
      "metadata": {
        "colab": {
          "base_uri": "https://localhost:8080/"
        },
        "id": "XuaPRy-sUCU4",
        "outputId": "96d87596-d54e-4193-fc43-31cf76d7d042"
      },
      "source": [
        "vggmodel.evaluate(test_sequence)"
      ],
      "execution_count": 19,
      "outputs": [
        {
          "output_type": "stream",
          "text": [
            "56/56 [==============================] - 10s 170ms/step - loss: 1.4838 - accuracy: 0.6981\n"
          ],
          "name": "stdout"
        },
        {
          "output_type": "execute_result",
          "data": {
            "text/plain": [
              "[1.483811616897583, 0.6981026530265808]"
            ]
          },
          "metadata": {
            "tags": []
          },
          "execution_count": 19
        }
      ]
    },
    {
      "cell_type": "code",
      "metadata": {
        "id": "7IodVnHZUHpo"
      },
      "source": [
        ""
      ],
      "execution_count": null,
      "outputs": []
    }
  ]
}