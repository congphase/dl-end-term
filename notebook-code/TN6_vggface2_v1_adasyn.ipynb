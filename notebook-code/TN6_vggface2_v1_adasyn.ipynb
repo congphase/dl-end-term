{
 "cells": [
  {
   "cell_type": "code",
   "execution_count": 1,
   "metadata": {
    "colab": {
     "base_uri": "https://localhost:8080/"
    },
    "id": "PL21Mz5-OeDg",
    "outputId": "906a7f85-57c7-43fb-80be-04630f44f016"
   },
   "outputs": [
    {
     "name": "stdout",
     "output_type": "stream",
     "text": [
      "Drive already mounted at /content/drive; to attempt to forcibly remount, call drive.mount(\"/content/drive\", force_remount=True).\n",
      "/content/drive/.shortcut-targets-by-id/1BOvFtzoVhfYNe70lBGxYzhPlDElSrazo/Final_Project_DL\n"
     ]
    }
   ],
   "source": [
    "# Mount \"My Drive\" into /content/drive\n",
    "from google.colab import drive\n",
    "\n",
    "google_drive_dir = \"Final_Project_DL\"  # @param\n",
    "#bml-notebooks/\n",
    "drive.mount('/content/drive')\n",
    "\n",
    "mount_point = \"/content/drive/MyDrive/{}\".format(google_drive_dir)\n",
    "\n",
    "# Change the root directory to your mount_point\n",
    "%cd '$mount_point'"
   ]
  },
  {
   "cell_type": "markdown",
   "metadata": {
    "id": "eI1PdIKtLrpv"
   },
   "source": [
    "# <span style=\"color: royalblue;\">Load Data</span>\n",
    "Load the image data with labels."
   ]
  },
  {
   "cell_type": "code",
   "execution_count": 2,
   "metadata": {
    "id": "HM1rN5gqd5aG"
   },
   "outputs": [],
   "source": [
    "import numpy as np\n",
    "from src.loadData import loadFer2013\n",
    "from keras.utils import to_categorical\n"
   ]
  },
  {
   "cell_type": "code",
   "execution_count": 3,
   "metadata": {
    "colab": {
     "base_uri": "https://localhost:8080/"
    },
    "id": "Nt9oKq3mo60M",
    "outputId": "b3be2cb3-1284-4904-bee7-224915958e04"
   },
   "outputs": [
    {
     "data": {
      "text/plain": [
       "['Angry', 'Disgust', 'Fear', 'Happy', 'Sad', 'Surprise', 'Neutral']"
      ]
     },
     "execution_count": 3,
     "metadata": {
      "tags": []
     },
     "output_type": "execute_result"
    }
   ],
   "source": [
    "emotions = {0: 'Angry', 1:'Disgust', 2:'Fear', 3: 'Happy', 4: 'Sad', 5: 'Surprise', 6: 'Neutral'}\n",
    "class_names = list(emotions.values())\n",
    "class_names"
   ]
  },
  {
   "cell_type": "code",
   "execution_count": 4,
   "metadata": {
    "id": "ct5pobN6eBgW"
   },
   "outputs": [],
   "source": [
    "X_train,X_val,X_test,y_train,y_val,y_test = loadFer2013('fer2013/icml_face_data.csv')\n",
    "\n",
    "y_train_onehot = to_categorical(y_train)\n",
    "y_val_onehot = to_categorical(y_val)\n",
    "y_test_onehot = to_categorical(y_test)"
   ]
  },
  {
   "cell_type": "code",
   "execution_count": 5,
   "metadata": {
    "colab": {
     "base_uri": "https://localhost:8080/"
    },
    "id": "reBwC55A3P9N",
    "outputId": "5a45e79c-a7c1-4562-f041-49e244fb5168"
   },
   "outputs": [
    {
     "data": {
      "text/plain": [
       "(28623, 48, 48)"
      ]
     },
     "execution_count": 5,
     "metadata": {
      "tags": []
     },
     "output_type": "execute_result"
    }
   ],
   "source": [
    "X_train.shape"
   ]
  },
  {
   "cell_type": "markdown",
   "metadata": {
    "id": "c5gLac_xzyq_"
   },
   "source": [
    "#Imbalance Data"
   ]
  },
  {
   "cell_type": "code",
   "execution_count": 6,
   "metadata": {
    "id": "oTyNSLwTz1ww"
   },
   "outputs": [],
   "source": [
    "import imblearn\n",
    "\n",
    "if imblearn.__version__.split('.')[1] != '7':\n",
    "   !pip install -U imbalanced-learn"
   ]
  },
  {
   "cell_type": "code",
   "execution_count": 7,
   "metadata": {
    "id": "gQqZCIev_L5u"
   },
   "outputs": [],
   "source": [
    "def SMOTE_data(X_train,y_train,mode='smote'):\n",
    "    if mode=='random':\n",
    "        print('using random')\n",
    "        oversample = imblearn.over_sampling.RandomOverSampler(sampling_strategy='auto')\n",
    "    elif mode=='adasyn':\n",
    "        print('using adasyn')\n",
    "        oversample = imblearn.over_sampling.ADASYN()\n",
    "    else:\n",
    "        print('using smote')\n",
    "        oversample = imblearn.over_sampling.SMOTE()\n",
    "\n",
    "    X_train = X_train.reshape(X_train.shape[0], -1)\n",
    "\n",
    "    X_train, y_train = oversample.fit_resample(X_train, y_train)\n",
    "\n",
    "    X_train = X_train.reshape((X_train.shape[0], 48, 48))\n",
    "\n",
    "    return X_train, y_train"
   ]
  },
  {
   "cell_type": "code",
   "execution_count": 8,
   "metadata": {
    "colab": {
     "base_uri": "https://localhost:8080/"
    },
    "id": "Dz3fxghSAHnV",
    "outputId": "8d96e6f7-439c-4923-98ab-fe76736f0d71"
   },
   "outputs": [
    {
     "name": "stdout",
     "output_type": "stream",
     "text": [
      "using adasyn\n"
     ]
    }
   ],
   "source": [
    "X_train_smote,y_train_smote= SMOTE_data(X_train,y_train,mode='adasyn')\n",
    "y_train_onehot = to_categorical(y_train_smote)"
   ]
  },
  {
   "cell_type": "code",
   "execution_count": 9,
   "metadata": {
    "colab": {
     "base_uri": "https://localhost:8080/"
    },
    "id": "Bjta5bsR4OAu",
    "outputId": "8eb69480-c48a-4ea7-c0ed-dd56c942f650"
   },
   "outputs": [
    {
     "data": {
      "text/plain": [
       "(52449, 48, 48)"
      ]
     },
     "execution_count": 9,
     "metadata": {
      "tags": []
     },
     "output_type": "execute_result"
    }
   ],
   "source": [
    "X_train_smote.shape"
   ]
  },
  {
   "cell_type": "markdown",
   "metadata": {
    "id": "-9KsqSFYycZW"
   },
   "source": [
    "#Preprocessing"
   ]
  },
  {
   "cell_type": "code",
   "execution_count": 10,
   "metadata": {
    "colab": {
     "base_uri": "https://localhost:8080/"
    },
    "id": "lIAx61wiye5z",
    "outputId": "7e0b600d-4256-4ef5-9207-a5165c804150"
   },
   "outputs": [
    {
     "data": {
      "text/plain": [
       "((52449, 48, 48, 1), (3589, 48, 48, 1), (3589, 48, 48, 1))"
      ]
     },
     "execution_count": 10,
     "metadata": {
      "tags": []
     },
     "output_type": "execute_result"
    }
   ],
   "source": [
    "def preprocessX(X):\n",
    "    # X = X.astype(np.float32)\n",
    "    # X = (X - X.mean())/X.std()\n",
    "    # X = X.astype(np.uint8)\n",
    "    return np.expand_dims(X,axis=-1)\n",
    "\n",
    "X_processed_train = preprocessX(X_train_smote)\n",
    "X_processed_val = preprocessX(X_val)\n",
    "X_processed_test = preprocessX(X_test)\n",
    "X_processed_train.shape,X_processed_val.shape,X_processed_test.shape"
   ]
  },
  {
   "cell_type": "markdown",
   "metadata": {
    "id": "-DkOqeRecp0l"
   },
   "source": [
    "#Training"
   ]
  },
  {
   "cell_type": "code",
   "execution_count": 11,
   "metadata": {
    "id": "WfXhrNLKi0sy"
   },
   "outputs": [],
   "source": [
    "import keras\n",
    "from keras.preprocessing import image\n",
    "from keras import applications as keras_applications"
   ]
  },
  {
   "cell_type": "code",
   "execution_count": 12,
   "metadata": {
    "colab": {
     "base_uri": "https://localhost:8080/"
    },
    "id": "zncRqtUejaMI",
    "outputId": "1fb98b3e-c4dd-42d0-a1fb-1b9fb80a960c"
   },
   "outputs": [
    {
     "name": "stdout",
     "output_type": "stream",
     "text": [
      "Collecting keras_applications\n",
      "\u001b[?25l  Downloading https://files.pythonhosted.org/packages/71/e3/19762fdfc62877ae9102edf6342d71b28fbfd9dea3d2f96a882ce099b03f/Keras_Applications-1.0.8-py3-none-any.whl (50kB)\n",
      "\r",
      "\u001b[K     |██████▌                         | 10kB 20.7MB/s eta 0:00:01\r",
      "\u001b[K     |█████████████                   | 20kB 13.5MB/s eta 0:00:01\r",
      "\u001b[K     |███████████████████▍            | 30kB 13.7MB/s eta 0:00:01\r",
      "\u001b[K     |█████████████████████████▉      | 40kB 12.4MB/s eta 0:00:01\r",
      "\u001b[K     |████████████████████████████████| 51kB 4.5MB/s \n",
      "\u001b[?25hRequirement already satisfied: numpy>=1.9.1 in /usr/local/lib/python3.6/dist-packages (from keras_applications) (1.19.5)\n",
      "Requirement already satisfied: h5py in /usr/local/lib/python3.6/dist-packages (from keras_applications) (2.10.0)\n",
      "Requirement already satisfied: six in /usr/local/lib/python3.6/dist-packages (from h5py->keras_applications) (1.15.0)\n",
      "Installing collected packages: keras-applications\n",
      "Successfully installed keras-applications-1.0.8\n",
      "Collecting git+https://github.com/rcmalli/keras-vggface.git\n",
      "  Cloning https://github.com/rcmalli/keras-vggface.git to /tmp/pip-req-build-hagfd6j4\n",
      "  Running command git clone -q https://github.com/rcmalli/keras-vggface.git /tmp/pip-req-build-hagfd6j4\n",
      "Requirement already satisfied: numpy>=1.9.1 in /usr/local/lib/python3.6/dist-packages (from keras-vggface==0.6) (1.19.5)\n",
      "Requirement already satisfied: scipy>=0.14 in /usr/local/lib/python3.6/dist-packages (from keras-vggface==0.6) (1.4.1)\n",
      "Requirement already satisfied: h5py in /usr/local/lib/python3.6/dist-packages (from keras-vggface==0.6) (2.10.0)\n",
      "Requirement already satisfied: pillow in /usr/local/lib/python3.6/dist-packages (from keras-vggface==0.6) (7.0.0)\n",
      "Requirement already satisfied: keras in /usr/local/lib/python3.6/dist-packages (from keras-vggface==0.6) (2.4.3)\n",
      "Requirement already satisfied: six>=1.9.0 in /usr/local/lib/python3.6/dist-packages (from keras-vggface==0.6) (1.15.0)\n",
      "Requirement already satisfied: pyyaml in /usr/local/lib/python3.6/dist-packages (from keras-vggface==0.6) (3.13)\n",
      "Building wheels for collected packages: keras-vggface\n",
      "  Building wheel for keras-vggface (setup.py) ... \u001b[?25l\u001b[?25hdone\n",
      "  Created wheel for keras-vggface: filename=keras_vggface-0.6-cp36-none-any.whl size=8310 sha256=c92787bf00f603ec7f3208d82b5caa780d714f150b62995601e3fe2e2d0c4428\n",
      "  Stored in directory: /tmp/pip-ephem-wheel-cache-54wjtj_t/wheels/36/07/46/06c25ce8e9cd396dabe151ea1d8a2bc28dafcb11321c1f3a6d\n",
      "Successfully built keras-vggface\n",
      "Installing collected packages: keras-vggface\n",
      "Successfully installed keras-vggface-0.6\n"
     ]
    }
   ],
   "source": [
    "!pip install keras_applications\n",
    "!pip install git+https://github.com/rcmalli/keras-vggface.git"
   ]
  },
  {
   "cell_type": "code",
   "execution_count": 13,
   "metadata": {
    "id": "cFzE7T-qjdO1"
   },
   "outputs": [],
   "source": [
    "from keras_vggface.vggface import VGGFace\n",
    "from keras_vggface import utils"
   ]
  },
  {
   "cell_type": "code",
   "execution_count": 14,
   "metadata": {
    "id": "c2b8HuspiHVx"
   },
   "outputs": [],
   "source": [
    "from copy import deepcopy as copy\n",
    "\n",
    "def smooth_labels(y, smooth_factor):\n",
    "    '''Convert a matrix of one-hot row-vector labels into smoothed versions.\n",
    "\n",
    "    # Arguments\n",
    "        y: matrix of one-hot row-vector labels to be smoothed\n",
    "        smooth_factor: label smoothing factor (between 0 and 1)\n",
    "\n",
    "    # Returns\n",
    "        A matrix of smoothed labels.\n",
    "    '''\n",
    "    assert len(y.shape) == 2, 'input should be a batch of one-hot-encoded data'\n",
    "    y2 = copy(y)\n",
    "    if 0 <= smooth_factor <= 1:\n",
    "        # label smoothing ref: https://www.robots.ox.ac.uk/~vgg/rg/papers/reinception.pdf\n",
    "        y2 *= 1 - smooth_factor\n",
    "        y2 += smooth_factor / y.shape[1]\n",
    "    else:\n",
    "        raise Exception(\n",
    "            'Invalid label smoothing factor: ' + str(smooth_factor))\n",
    "    return y2"
   ]
  },
  {
   "cell_type": "code",
   "execution_count": 15,
   "metadata": {
    "id": "CHi8FiFwiKuV"
   },
   "outputs": [],
   "source": [
    "from keras.utils import Sequence\n",
    "from keras.utils import to_categorical\n",
    "import cv2\n",
    "from math import floor\n",
    "\n",
    "class data_sequence(Sequence):\n",
    "    '''\n",
    "      yield sequence of data\n",
    "      features -- list of features\n",
    "      labels -- list of labels\n",
    "      target_channels {int} -- 1 (gray) or 3(RGB)\n",
    "    '''\n",
    "    def __init__(self, features, labels, batch_size=128, target_dim=(224,224), \n",
    "                 n_classes=7, shuffle=True, smooth=0.0):\n",
    "        'Initialization'\n",
    "        assert len(features)==len(labels), 'number of feature and labels not consistent'\n",
    "        self.features = features\n",
    "        self.labels = labels\n",
    "        self.batch_size = batch_size\n",
    "        self.target_dim = target_dim\n",
    "        self.target_channels = 3\n",
    "        self.n_classes = n_classes\n",
    "        self.shuffle = shuffle\n",
    "        self.smooth = smooth\n",
    "        self.sample_count = len(labels)\n",
    "        self.indexes = np.arange(self.sample_count)\n",
    "        self.on_epoch_end()\n",
    "#         self.verbose = verbose\n",
    "\n",
    "    def __len__(self):\n",
    "        'Denotes the number of batches per epoch'\n",
    "        return floor(self.sample_count / self.batch_size)\n",
    "\n",
    "    def __gray2RGB__(self,x):\n",
    "      if len(x.shape)==2:\n",
    "        return np.stack((x,x,x),-1)\n",
    "      else:\n",
    "        assert len(x.shape)==3\n",
    "        if len(x[0,0,:]) == 1:\n",
    "          return np.stack((x[:,:,0],x[:,:,0],x[:,:,0]),-1)\n",
    "        else:\n",
    "          assert len(x[0,0,:])==self.target_channels\n",
    "      return x\n",
    "\n",
    "\n",
    "    def __getitem__(self, idx):\n",
    "        'Generate one batch of data'\n",
    "        # Generate indexes of the batch\n",
    "        indexes = self.indexes[idx * self.batch_size : (idx + 1) * self.batch_size]\n",
    "        X = np.empty((self.batch_size, *self.target_dim, self.target_channels))\n",
    "        Y = np.empty((self.batch_size, self.n_classes))\n",
    "        for i,ind in enumerate(indexes):\n",
    "          x = self.features[ind]\n",
    "          # resize image to the target size \n",
    "          x = cv2.resize(x,self.target_dim,interpolation=cv2.INTER_CUBIC)\n",
    "          #histogram equalization\n",
    "          # x = cv2.equalizeHist(x)\n",
    "          # x = x.astype(np.float64)\n",
    "\n",
    "          x = self.__gray2RGB__(x)\n",
    "          X[i] = utils.preprocess_input(x, version=2) # or version=2 for VGGFace2 ResNet50  \n",
    "          y = self.labels[ind]\n",
    "          if isinstance(y,int):\n",
    "            Y[i]=to_categorical(y,7)\n",
    "          else:\n",
    "            assert len(y)==self.n_classes\n",
    "            Y[i]=y\n",
    "        X = np.array(X)\n",
    "        Y = np.array(Y)\n",
    "        if self.smooth > 0.0:\n",
    "          smooth_labels(Y, self.smooth)\n",
    "        return X,Y\n",
    "\n",
    "    def on_epoch_end(self):\n",
    "        'Updates indexes after each epoch'\n",
    "        if self.shuffle == True:\n",
    "            np.random.shuffle(self.indexes)"
   ]
  },
  {
   "cell_type": "markdown",
   "metadata": {
    "id": "SQARMLYepeAF"
   },
   "source": [
    "#Model"
   ]
  },
  {
   "cell_type": "code",
   "execution_count": null,
   "metadata": {
    "id": "ouwQvEhoqZ6u"
   },
   "outputs": [],
   "source": [
    "vggface = VGGFace(model='resnet50', include_top=False, input_shape = (224,224,3))\n",
    "vggface.trainable = False"
   ]
  },
  {
   "cell_type": "code",
   "execution_count": 16,
   "metadata": {
    "id": "nd4dL2rGut6n"
   },
   "outputs": [],
   "source": [
    "train_sequence = data_sequence(X_processed_train,y_train_onehot,batch_size=64,target_dim=(224,224),n_classes=7,shuffle=True,smooth=0.07)\n",
    "val_sequence   = data_sequence(X_processed_val,  y_val_onehot,  batch_size=64,target_dim=(224,224),n_classes=7,shuffle=True,smooth=0.0)\n",
    "test_sequence  = data_sequence(X_processed_test, y_test_onehot, batch_size=64,target_dim=(224,224),n_classes=7,shuffle=True,smooth=0.0)"
   ]
  },
  {
   "cell_type": "code",
   "execution_count": null,
   "metadata": {
    "colab": {
     "base_uri": "https://localhost:8080/"
    },
    "id": "kSaKU_htTwAa",
    "outputId": "468d9017-c476-4422-c209-e6d7981e16b0"
   },
   "outputs": [
    {
     "name": "stdout",
     "output_type": "stream",
     "text": [
      "Model: \"sequential\"\n",
      "_________________________________________________________________\n",
      "Layer (type)                 Output Shape              Param #   \n",
      "=================================================================\n",
      "vggface_resnet50 (Functional (None, 1, 1, 2048)        23561152  \n",
      "_________________________________________________________________\n",
      "flatten (Flatten)            (None, 2048)              0         \n",
      "_________________________________________________________________\n",
      "dropout (Dropout)            (None, 2048)              0         \n",
      "_________________________________________________________________\n",
      "dense (Dense)                (None, 2048)              4196352   \n",
      "_________________________________________________________________\n",
      "dropout_1 (Dropout)          (None, 2048)              0         \n",
      "_________________________________________________________________\n",
      "dense_1 (Dense)              (None, 1024)              2098176   \n",
      "_________________________________________________________________\n",
      "classifer (Dense)            (None, 7)                 7175      \n",
      "=================================================================\n",
      "Total params: 29,862,855\n",
      "Trainable params: 6,301,703\n",
      "Non-trainable params: 23,561,152\n",
      "_________________________________________________________________\n"
     ]
    }
   ],
   "source": [
    "from keras.models import Sequential\n",
    "from keras.layers import Flatten\n",
    "from keras.layers import Dense\n",
    "from keras.layers import Dropout\n",
    "from keras.layers import BatchNormalization\n",
    "\n",
    "\n",
    "model = Sequential([vggface,\n",
    "                    Flatten(),\n",
    "                    Dropout(0.25),\n",
    "                    Dense(2048, activation='relu'),\n",
    "                    Dropout(0.25),\n",
    "                    Dense(1024, activation='relu'),\n",
    "                    Dense(7, activation='softmax', name = 'classifer')])\n",
    "model.summary()"
   ]
  },
  {
   "cell_type": "code",
   "execution_count": null,
   "metadata": {
    "id": "FPCxxym9kJop"
   },
   "outputs": [],
   "source": [
    "from tensorflow.keras.callbacks import EarlyStopping, ModelCheckpoint\n",
    "\n",
    "es = EarlyStopping(monitor='val_loss', mode='min', verbose=1, patience=10, restore_best_weights=True)\n",
    "mc = ModelCheckpoint('saved_checkpoint/Checkpoint/model_vggface2_adasyn.h5', monitor='val_accuracy', mode='max', verbose=1, save_best_only=True)\n"
   ]
  },
  {
   "cell_type": "code",
   "execution_count": null,
   "metadata": {
    "colab": {
     "base_uri": "https://localhost:8080/"
    },
    "id": "K3gjQ5b-aykT",
    "outputId": "4ce25227-01f0-4dd1-9c26-624f15e4d04c"
   },
   "outputs": [
    {
     "name": "stderr",
     "output_type": "stream",
     "text": [
      "/usr/local/lib/python3.6/dist-packages/tensorflow/python/keras/engine/training.py:1844: UserWarning: `Model.fit_generator` is deprecated and will be removed in a future version. Please use `Model.fit`, which supports generators.\n",
      "  warnings.warn('`Model.fit_generator` is deprecated and '\n"
     ]
    },
    {
     "name": "stdout",
     "output_type": "stream",
     "text": [
      "Epoch 1/20\n",
      "819/819 [==============================] - 173s 208ms/step - loss: 2.0378 - accuracy: 0.4612 - val_loss: 1.0795 - val_accuracy: 0.5932\n",
      "\n",
      "Epoch 00001: val_accuracy improved from -inf to 0.59319, saving model to saved_checkpoint/Checkpoint/model_vggface2_adasyn.h5\n",
      "Epoch 2/20\n",
      "819/819 [==============================] - 171s 208ms/step - loss: 1.0093 - accuracy: 0.6208 - val_loss: 1.0624 - val_accuracy: 0.6044\n",
      "\n",
      "Epoch 00002: val_accuracy improved from 0.59319 to 0.60435, saving model to saved_checkpoint/Checkpoint/model_vggface2_adasyn.h5\n",
      "Epoch 3/20\n",
      "819/819 [==============================] - 171s 208ms/step - loss: 0.8854 - accuracy: 0.6677 - val_loss: 1.0459 - val_accuracy: 0.6177\n",
      "\n",
      "Epoch 00003: val_accuracy improved from 0.60435 to 0.61775, saving model to saved_checkpoint/Checkpoint/model_vggface2_adasyn.h5\n",
      "Epoch 4/20\n",
      "819/819 [==============================] - 171s 209ms/step - loss: 0.8004 - accuracy: 0.7034 - val_loss: 1.0332 - val_accuracy: 0.6236\n",
      "\n",
      "Epoch 00004: val_accuracy improved from 0.61775 to 0.62360, saving model to saved_checkpoint/Checkpoint/model_vggface2_adasyn.h5\n",
      "Epoch 5/20\n",
      "819/819 [==============================] - 171s 208ms/step - loss: 0.7247 - accuracy: 0.7318 - val_loss: 1.0337 - val_accuracy: 0.6336\n",
      "\n",
      "Epoch 00005: val_accuracy improved from 0.62360 to 0.63365, saving model to saved_checkpoint/Checkpoint/model_vggface2_adasyn.h5\n",
      "Epoch 6/20\n",
      "819/819 [==============================] - 171s 208ms/step - loss: 0.6693 - accuracy: 0.7507 - val_loss: 1.0206 - val_accuracy: 0.6350\n",
      "\n",
      "Epoch 00006: val_accuracy improved from 0.63365 to 0.63504, saving model to saved_checkpoint/Checkpoint/model_vggface2_adasyn.h5\n",
      "Epoch 7/20\n",
      "819/819 [==============================] - 171s 208ms/step - loss: 0.6162 - accuracy: 0.7743 - val_loss: 1.0464 - val_accuracy: 0.6440\n",
      "\n",
      "Epoch 00007: val_accuracy improved from 0.63504 to 0.64397, saving model to saved_checkpoint/Checkpoint/model_vggface2_adasyn.h5\n",
      "Epoch 8/20\n",
      "819/819 [==============================] - 171s 209ms/step - loss: 0.5823 - accuracy: 0.7874 - val_loss: 1.0329 - val_accuracy: 0.6454\n",
      "\n",
      "Epoch 00008: val_accuracy improved from 0.64397 to 0.64537, saving model to saved_checkpoint/Checkpoint/model_vggface2_adasyn.h5\n",
      "Epoch 9/20\n",
      "819/819 [==============================] - 171s 208ms/step - loss: 0.5273 - accuracy: 0.8060 - val_loss: 1.0640 - val_accuracy: 0.6448\n",
      "\n",
      "Epoch 00009: val_accuracy did not improve from 0.64537\n",
      "Epoch 10/20\n",
      "819/819 [==============================] - 170s 208ms/step - loss: 0.4963 - accuracy: 0.8208 - val_loss: 1.1093 - val_accuracy: 0.6392\n",
      "\n",
      "Epoch 00010: val_accuracy did not improve from 0.64537\n",
      "Epoch 11/20\n",
      "819/819 [==============================] - 170s 208ms/step - loss: 0.4687 - accuracy: 0.8316 - val_loss: 1.1096 - val_accuracy: 0.6540\n",
      "\n",
      "Epoch 00011: val_accuracy improved from 0.64537 to 0.65402, saving model to saved_checkpoint/Checkpoint/model_vggface2_adasyn.h5\n",
      "Epoch 12/20\n",
      "819/819 [==============================] - 171s 208ms/step - loss: 0.4383 - accuracy: 0.8443 - val_loss: 1.1120 - val_accuracy: 0.6523\n",
      "\n",
      "Epoch 00012: val_accuracy did not improve from 0.65402\n",
      "Epoch 13/20\n",
      "819/819 [==============================] - 171s 208ms/step - loss: 0.4235 - accuracy: 0.8487 - val_loss: 1.1629 - val_accuracy: 0.6585\n",
      "\n",
      "Epoch 00013: val_accuracy improved from 0.65402 to 0.65848, saving model to saved_checkpoint/Checkpoint/model_vggface2_adasyn.h5\n",
      "Epoch 14/20\n",
      "819/819 [==============================] - 171s 208ms/step - loss: 0.4011 - accuracy: 0.8565 - val_loss: 1.1380 - val_accuracy: 0.6529\n",
      "\n",
      "Epoch 00014: val_accuracy did not improve from 0.65848\n",
      "Epoch 15/20\n",
      "819/819 [==============================] - 171s 208ms/step - loss: 0.3776 - accuracy: 0.8687 - val_loss: 1.1780 - val_accuracy: 0.6596\n",
      "\n",
      "Epoch 00015: val_accuracy improved from 0.65848 to 0.65960, saving model to saved_checkpoint/Checkpoint/model_vggface2_adasyn.h5\n",
      "Epoch 16/20\n",
      "819/819 [==============================] - 171s 208ms/step - loss: 0.3699 - accuracy: 0.8709 - val_loss: 1.1429 - val_accuracy: 0.6643\n",
      "Restoring model weights from the end of the best epoch.\n",
      "\n",
      "Epoch 00016: val_accuracy improved from 0.65960 to 0.66434, saving model to saved_checkpoint/Checkpoint/model_vggface2_adasyn.h5\n",
      "Epoch 00016: early stopping\n"
     ]
    }
   ],
   "source": [
    "model.compile(optimizer = keras.optimizers.Adam(), loss='categorical_crossentropy', metrics=['accuracy'])\n",
    "hist = model.fit_generator(generator = train_sequence,\n",
    "                           validation_data = val_sequence,\n",
    "                           callbacks=[es,mc],\n",
    "                           epochs = 20)"
   ]
  },
  {
   "cell_type": "code",
   "execution_count": null,
   "metadata": {
    "colab": {
     "base_uri": "https://localhost:8080/",
     "height": 228
    },
    "id": "ydlEU4-vkIr-",
    "outputId": "a5e5b94d-79f8-4eb5-9128-7c6f21e2fd97"
   },
   "outputs": [
    {
     "data": {
      "text/plain": [
       "[<matplotlib.lines.Line2D at 0x7f8b0fde8128>]"
      ]
     },
     "execution_count": 132,
     "metadata": {
      "tags": []
     },
     "output_type": "execute_result"
    },
    {
     "data": {
      "image/png": "[encoded data removed]",
      "text/plain": [
       "<Figure size 576x216 with 2 Axes>"
      ]
     },
     "metadata": {
      "needs_background": "light",
      "tags": []
     },
     "output_type": "display_data"
    }
   ],
   "source": [
    "import matplotlib.pyplot as plt\n",
    "\n",
    "plt.figure(figsize=(8,3))\n",
    "plt.subplot(1,2,1)\n",
    "plt.plot(hist.history['accuracy'])\n",
    "plt.plot(hist.history['val_accuracy'])\n",
    "plt.subplot(1,2,2)\n",
    "plt.plot(hist.history['loss'])\n",
    "plt.plot(hist.history['val_loss'])"
   ]
  },
  {
   "cell_type": "markdown",
   "metadata": {
    "id": "yFVrMtoIaOrH"
   },
   "source": []
  },
  {
   "cell_type": "markdown",
   "metadata": {
    "id": "vH-8B4COzB3L"
   },
   "source": [
    "### finetune all layer, lr=1e-4"
   ]
  },
  {
   "cell_type": "code",
   "execution_count": null,
   "metadata": {
    "id": "N66XbDqlflb5"
   },
   "outputs": [],
   "source": [
    "vggmodel = keras.models.load_model('saved_checkpoint/Checkpoint/model_vggface2_adasyn.h5')"
   ]
  },
  {
   "cell_type": "code",
   "execution_count": null,
   "metadata": {
    "id": "SCpHaeaGgEHv"
   },
   "outputs": [],
   "source": [
    "test_sequence  = data_sequence(X_processed_test, y_test_onehot, batch_size=37,target_dim=(224,224),n_classes=7,shuffle=True,smooth=0.0)"
   ]
  },
  {
   "cell_type": "code",
   "execution_count": null,
   "metadata": {
    "colab": {
     "base_uri": "https://localhost:8080/"
    },
    "id": "hTmzh6rWf1tP",
    "outputId": "6fd8ac7d-5d11-47c5-9df3-3ca08b7441be"
   },
   "outputs": [
    {
     "name": "stdout",
     "output_type": "stream",
     "text": [
      "97/97 [==============================] - 11s 110ms/step - loss: 1.1074 - accuracy: 0.7097\n"
     ]
    },
    {
     "data": {
      "text/plain": [
       "[1.1074239015579224, 0.7096684575080872]"
      ]
     },
     "execution_count": 171,
     "metadata": {
      "tags": []
     },
     "output_type": "execute_result"
    }
   ],
   "source": [
    "model.evaluate(test_sequence)"
   ]
  },
  {
   "cell_type": "code",
   "execution_count": null,
   "metadata": {
    "colab": {
     "base_uri": "https://localhost:8080/"
    },
    "id": "v26Rt8vHfrWA",
    "outputId": "3aa467f0-f2e4-4386-a052-1446907f3fab"
   },
   "outputs": [
    {
     "name": "stdout",
     "output_type": "stream",
     "text": [
      "Model: \"sequential\"\n",
      "_________________________________________________________________\n",
      "Layer (type)                 Output Shape              Param #   \n",
      "=================================================================\n",
      "vggface_resnet50 (Functional (None, 1, 1, 2048)        23561152  \n",
      "_________________________________________________________________\n",
      "flatten (Flatten)            (None, 2048)              0         \n",
      "_________________________________________________________________\n",
      "dropout (Dropout)            (None, 2048)              0         \n",
      "_________________________________________________________________\n",
      "dense (Dense)                (None, 2048)              4196352   \n",
      "_________________________________________________________________\n",
      "dropout_1 (Dropout)          (None, 2048)              0         \n",
      "_________________________________________________________________\n",
      "dense_1 (Dense)              (None, 1024)              2098176   \n",
      "_________________________________________________________________\n",
      "classifer (Dense)            (None, 7)                 7175      \n",
      "=================================================================\n",
      "Total params: 29,862,855\n",
      "Trainable params: 29,756,615\n",
      "Non-trainable params: 106,240\n",
      "_________________________________________________________________\n"
     ]
    }
   ],
   "source": [
    "for layer in vggmodel.layers[0].layers:\n",
    "    if 'bn' not in layer.name:\n",
    "        layer.trainable = True\n",
    "vggmodel.summary()"
   ]
  },
  {
   "cell_type": "code",
   "execution_count": null,
   "metadata": {
    "colab": {
     "base_uri": "https://localhost:8080/"
    },
    "id": "u1xy-IyDzB3N",
    "outputId": "2da3e40c-551c-4510-fa0a-f5fd6fdfeff4"
   },
   "outputs": [
    {
     "name": "stderr",
     "output_type": "stream",
     "text": [
      "/usr/local/lib/python3.6/dist-packages/tensorflow/python/keras/engine/training.py:1844: UserWarning: `Model.fit_generator` is deprecated and will be removed in a future version. Please use `Model.fit`, which supports generators.\n",
      "  warnings.warn('`Model.fit_generator` is deprecated and '\n"
     ]
    },
    {
     "name": "stdout",
     "output_type": "stream",
     "text": [
      "Epoch 1/10\n",
      "819/819 [==============================] - 173s 208ms/step - loss: 0.2628 - accuracy: 0.9052 - val_loss: 1.1899 - val_accuracy: 0.6666\n",
      "\n",
      "Epoch 00001: val_accuracy did not improve from 0.66769\n",
      "Epoch 2/10\n",
      "819/819 [==============================] - 171s 208ms/step - loss: 0.2496 - accuracy: 0.9089 - val_loss: 1.1921 - val_accuracy: 0.6596\n",
      "\n",
      "Epoch 00002: val_accuracy did not improve from 0.66769\n",
      "Epoch 3/10\n",
      "819/819 [==============================] - 171s 208ms/step - loss: 0.2371 - accuracy: 0.9158 - val_loss: 1.2059 - val_accuracy: 0.6671\n",
      "\n",
      "Epoch 00003: val_accuracy did not improve from 0.66769\n",
      "Epoch 4/10\n",
      "819/819 [==============================] - 171s 209ms/step - loss: 0.2282 - accuracy: 0.9174 - val_loss: 1.2412 - val_accuracy: 0.6702\n",
      "\n",
      "Epoch 00004: val_accuracy improved from 0.66769 to 0.67020, saving model to saved_checkpoint/Checkpoint/model_vggface2_adasyn.h5\n",
      "Epoch 5/10\n",
      "819/819 [==============================] - 171s 209ms/step - loss: 0.2156 - accuracy: 0.9211 - val_loss: 1.2381 - val_accuracy: 0.6719\n",
      "\n",
      "Epoch 00005: val_accuracy improved from 0.67020 to 0.67188, saving model to saved_checkpoint/Checkpoint/model_vggface2_adasyn.h5\n",
      "Epoch 6/10\n",
      "819/819 [==============================] - 171s 209ms/step - loss: 0.2003 - accuracy: 0.9292 - val_loss: 1.2599 - val_accuracy: 0.6682\n",
      "\n",
      "Epoch 00006: val_accuracy did not improve from 0.67188\n",
      "Epoch 7/10\n",
      "819/819 [==============================] - 171s 209ms/step - loss: 0.1979 - accuracy: 0.9306 - val_loss: 1.2798 - val_accuracy: 0.6674\n",
      "\n",
      "Epoch 00007: val_accuracy did not improve from 0.67188\n",
      "Epoch 8/10\n",
      "819/819 [==============================] - 171s 209ms/step - loss: 0.1877 - accuracy: 0.9343 - val_loss: 1.2759 - val_accuracy: 0.6646\n",
      "\n",
      "Epoch 00008: val_accuracy did not improve from 0.67188\n",
      "Epoch 9/10\n",
      "819/819 [==============================] - 172s 209ms/step - loss: 0.1777 - accuracy: 0.9365 - val_loss: 1.3294 - val_accuracy: 0.6674\n",
      "\n",
      "Epoch 00009: val_accuracy did not improve from 0.67188\n",
      "Epoch 10/10\n",
      "819/819 [==============================] - 172s 209ms/step - loss: 0.1740 - accuracy: 0.9388 - val_loss: 1.3009 - val_accuracy: 0.6663\n",
      "\n",
      "Epoch 00010: val_accuracy did not improve from 0.67188\n"
     ]
    }
   ],
   "source": [
    "model.compile(optimizer = keras.optimizers.Adam(1e-4), loss='categorical_crossentropy', metrics=['accuracy'])\n",
    "hist2 = model.fit_generator(generator = train_sequence,\n",
    "                            validation_data = val_sequence,\n",
    "                            callbacks=[es,mc],\n",
    "                            epochs = 10)"
   ]
  },
  {
   "cell_type": "code",
   "execution_count": null,
   "metadata": {
    "id": "zoZVUIfUzB3O"
   },
   "outputs": [],
   "source": [
    "for key in ['accuracy','val_accuracy','loss','val_loss']:\n",
    "    hist.history[key] = hist.history[key] + hist2.history[key]"
   ]
  },
  {
   "cell_type": "code",
   "execution_count": null,
   "metadata": {
    "colab": {
     "base_uri": "https://localhost:8080/",
     "height": 231
    },
    "id": "jvTsIYgezB3O",
    "outputId": "a234b07c-7d38-4bb0-a1b4-69fee5fbb123"
   },
   "outputs": [
    {
     "data": {
      "text/plain": [
       "[<matplotlib.lines.Line2D at 0x7f8b0898e748>]"
      ]
     },
     "execution_count": 168,
     "metadata": {
      "tags": []
     },
     "output_type": "execute_result"
    },
    {
     "data": {
      "image/png": "[encoded data removed]",
      "text/plain": [
       "<Figure size 576x216 with 2 Axes>"
      ]
     },
     "metadata": {
      "needs_background": "light",
      "tags": []
     },
     "output_type": "display_data"
    }
   ],
   "source": [
    "plt.figure(figsize=(8,3))\n",
    "plt.subplot(1,2,1)\n",
    "plt.plot(hist.history['accuracy'])\n",
    "plt.plot(hist.history['val_accuracy'])\n",
    "plt.subplot(1,2,2)\n",
    "plt.plot(hist.history['loss'])\n",
    "plt.plot(hist.history['val_loss'])"
   ]
  },
  {
   "cell_type": "markdown",
   "metadata": {
    "id": "eHaUNllr0veJ"
   },
   "source": [
    "#1e-5"
   ]
  },
  {
   "cell_type": "code",
   "execution_count": null,
   "metadata": {
    "id": "7NLVE9MB0w8v"
   },
   "outputs": [],
   "source": [
    "model = keras.models.load_model('saved_checkpoint/Checkpoint/model_vggface2_adasyn.h5')"
   ]
  },
  {
   "cell_type": "code",
   "execution_count": null,
   "metadata": {
    "colab": {
     "base_uri": "https://localhost:8080/"
    },
    "id": "SxLJ2z-L08ij",
    "outputId": "d2e1ec5d-851f-4883-f5e2-2d41f7da8d79"
   },
   "outputs": [
    {
     "name": "stdout",
     "output_type": "stream",
     "text": [
      "Model: \"sequential\"\n",
      "_________________________________________________________________\n",
      "Layer (type)                 Output Shape              Param #   \n",
      "=================================================================\n",
      "vggface_resnet50 (Functional (None, 1, 1, 2048)        23561152  \n",
      "_________________________________________________________________\n",
      "flatten (Flatten)            (None, 2048)              0         \n",
      "_________________________________________________________________\n",
      "dropout (Dropout)            (None, 2048)              0         \n",
      "_________________________________________________________________\n",
      "dense (Dense)                (None, 2048)              4196352   \n",
      "_________________________________________________________________\n",
      "dropout_1 (Dropout)          (None, 2048)              0         \n",
      "_________________________________________________________________\n",
      "dense_1 (Dense)              (None, 1024)              2098176   \n",
      "_________________________________________________________________\n",
      "classifer (Dense)            (None, 7)                 7175      \n",
      "=================================================================\n",
      "Total params: 29,862,855\n",
      "Trainable params: 29,756,615\n",
      "Non-trainable params: 106,240\n",
      "_________________________________________________________________\n"
     ]
    }
   ],
   "source": [
    "model.summary()"
   ]
  },
  {
   "cell_type": "code",
   "execution_count": null,
   "metadata": {
    "colab": {
     "base_uri": "https://localhost:8080/"
    },
    "id": "ML3mvxiBCD_i",
    "outputId": "b59c9294-1025-494b-8dc3-3ef0a4b01625"
   },
   "outputs": [
    {
     "name": "stderr",
     "output_type": "stream",
     "text": [
      "/usr/local/lib/python3.6/dist-packages/tensorflow/python/keras/engine/training.py:1844: UserWarning: `Model.fit_generator` is deprecated and will be removed in a future version. Please use `Model.fit`, which supports generators.\n",
      "  warnings.warn('`Model.fit_generator` is deprecated and '\n"
     ]
    },
    {
     "name": "stdout",
     "output_type": "stream",
     "text": [
      "Epoch 1/20\n",
      "819/819 [==============================] - 576s 700ms/step - loss: 0.1337 - accuracy: 0.9530 - val_loss: 1.2331 - val_accuracy: 0.7001\n",
      "\n",
      "Epoch 00001: val_accuracy did not improve from 0.70480\n",
      "Epoch 2/20\n",
      "819/819 [==============================] - 574s 701ms/step - loss: 0.1054 - accuracy: 0.9640 - val_loss: 1.2812 - val_accuracy: 0.6989\n",
      "\n",
      "Epoch 00002: val_accuracy did not improve from 0.70480\n",
      "Epoch 3/20\n",
      "819/819 [==============================] - 574s 701ms/step - loss: 0.0929 - accuracy: 0.9678 - val_loss: 1.3059 - val_accuracy: 0.7040\n",
      "\n",
      "Epoch 00003: val_accuracy did not improve from 0.70480\n",
      "Epoch 4/20\n",
      "819/819 [==============================] - 575s 702ms/step - loss: 0.0904 - accuracy: 0.9680 - val_loss: 1.3188 - val_accuracy: 0.7023\n",
      "\n",
      "Epoch 00004: val_accuracy did not improve from 0.70480\n",
      "Epoch 5/20\n",
      "819/819 [==============================] - 576s 703ms/step - loss: 0.0842 - accuracy: 0.9704 - val_loss: 1.3424 - val_accuracy: 0.7037\n",
      "\n",
      "Epoch 00005: val_accuracy did not improve from 0.70480\n",
      "Epoch 6/20\n",
      "819/819 [==============================] - 576s 703ms/step - loss: 0.0830 - accuracy: 0.9707 - val_loss: 1.3549 - val_accuracy: 0.7015\n",
      "\n",
      "Epoch 00006: val_accuracy did not improve from 0.70480\n",
      "Epoch 7/20\n",
      "819/819 [==============================] - 577s 704ms/step - loss: 0.0762 - accuracy: 0.9727 - val_loss: 1.3703 - val_accuracy: 0.7028\n",
      "\n",
      "Epoch 00007: val_accuracy did not improve from 0.70480\n",
      "Epoch 8/20\n",
      "819/819 [==============================] - 577s 704ms/step - loss: 0.0745 - accuracy: 0.9727 - val_loss: 1.3848 - val_accuracy: 0.7042\n",
      "\n",
      "Epoch 00008: val_accuracy did not improve from 0.70480\n",
      "Epoch 9/20\n",
      "819/819 [==============================] - 575s 703ms/step - loss: 0.0782 - accuracy: 0.9712 - val_loss: 1.3843 - val_accuracy: 0.7012\n",
      "\n",
      "Epoch 00009: val_accuracy did not improve from 0.70480\n",
      "Epoch 10/20\n",
      "819/819 [==============================] - 576s 703ms/step - loss: 0.0718 - accuracy: 0.9754 - val_loss: 1.4103 - val_accuracy: 0.6975\n",
      "\n",
      "Epoch 00010: val_accuracy did not improve from 0.70480\n",
      "Epoch 11/20\n",
      "819/819 [==============================] - 576s 703ms/step - loss: 0.0712 - accuracy: 0.9752 - val_loss: 1.4119 - val_accuracy: 0.7040\n",
      "Restoring model weights from the end of the best epoch.\n",
      "\n",
      "Epoch 00011: val_accuracy did not improve from 0.70480\n",
      "Epoch 00011: early stopping\n"
     ]
    }
   ],
   "source": [
    "model.compile(optimizer = keras.optimizers.Adam(1e-6), loss='categorical_crossentropy', metrics=['accuracy'])\n",
    "hist2 = model.fit_generator(generator = train_sequence,\n",
    "                            validation_data = val_sequence,\n",
    "                            callbacks=[es,mc],\n",
    "                            epochs = 20)"
   ]
  },
  {
   "cell_type": "code",
   "execution_count": 17,
   "metadata": {
    "id": "KBKNVBi9u-4U"
   },
   "outputs": [],
   "source": [
    "model = keras.models.load_model('saved_checkpoint/Checkpoint/model_vggface2_adasyn.h5')"
   ]
  },
  {
   "cell_type": "code",
   "execution_count": 18,
   "metadata": {
    "colab": {
     "base_uri": "https://localhost:8080/"
    },
    "id": "m7pLKljyaVlF",
    "outputId": "e47408ec-e7f5-42b9-d751-80980d78b3ec"
   },
   "outputs": [
    {
     "name": "stdout",
     "output_type": "stream",
     "text": [
      "56/56 [==============================] - 17s 165ms/step - loss: 1.1264 - accuracy: 0.7051\n"
     ]
    },
    {
     "data": {
      "text/plain": [
       "[1.1264394521713257, 0.705078125]"
      ]
     },
     "execution_count": 18,
     "metadata": {
      "tags": []
     },
     "output_type": "execute_result"
    }
   ],
   "source": [
    "model.evaluate(val_sequence)"
   ]
  },
  {
   "cell_type": "code",
   "execution_count": 19,
   "metadata": {
    "colab": {
     "base_uri": "https://localhost:8080/"
    },
    "id": "jAQCWNo6ab94",
    "outputId": "c618e017-a37b-4306-a069-dde8800e226e"
   },
   "outputs": [
    {
     "name": "stdout",
     "output_type": "stream",
     "text": [
      "56/56 [==============================] - 10s 168ms/step - loss: 1.0404 - accuracy: 0.7048\n"
     ]
    },
    {
     "data": {
      "text/plain": [
       "[1.0404359102249146, 0.7047991156578064]"
      ]
     },
     "execution_count": 19,
     "metadata": {
      "tags": []
     },
     "output_type": "execute_result"
    }
   ],
   "source": [
    "model.evaluate(test_sequence)"
   ]
  },
  {
   "cell_type": "code",
   "execution_count": null,
   "metadata": {
    "id": "Ei2pJ8RYa_bV"
   },
   "outputs": [],
   "source": []
  }
 ],
 "metadata": {
  "accelerator": "GPU",
  "colab": {
   "collapsed_sections": [],
   "name": "TN6_vggface2_v1_adasyn.ipynb",
   "provenance": []
  },
  "kernelspec": {
   "display_name": "Python 3",
   "language": "python",
   "name": "python3"
  },
  "language_info": {
   "codemirror_mode": {
    "name": "ipython",
    "version": 3
   },
   "file_extension": ".py",
   "mimetype": "text/x-python",
   "name": "python",
   "nbconvert_exporter": "python",
   "pygments_lexer": "ipython3",
   "version": "3.7.9"
  }
 },
 "nbformat": 4,
 "nbformat_minor": 1
}
