{
 "cells": [
  {
   "cell_type": "code",
   "execution_count": 1,
   "metadata": {
    "colab": {
     "base_uri": "https://localhost:8080/"
    },
    "executionInfo": {
     "elapsed": 171532,
     "status": "ok",
     "timestamp": 1610938682229,
     "user": {
      "displayName": "Dũng Nguyễn Minh",
      "photoUrl": "",
      "userId": "05826558414739051995"
     },
     "user_tz": -420
    },
    "id": "PL21Mz5-OeDg",
    "outputId": "42cee6c4-04dd-4792-f6ad-c91252bc04ce"
   },
   "outputs": [
    {
     "name": "stdout",
     "output_type": "stream",
     "text": [
      "Mounted at /content/drive\n",
      "/content/drive/.shortcut-targets-by-id/1BOvFtzoVhfYNe70lBGxYzhPlDElSrazo/Final_Project_DL\n"
     ]
    }
   ],
   "source": [
    "# Mount \"My Drive\" into /content/drive\n",
    "from google.colab import drive\n",
    "\n",
    "google_drive_dir = \"Final_Project_DL\"  # @param\n",
    "#bml-notebooks/\n",
    "drive.mount('/content/drive')\n",
    "\n",
    "mount_point = \"/content/drive/MyDrive/{}\".format(google_drive_dir)\n",
    "\n",
    "# Change the root directory to your mount_point\n",
    "%cd '$mount_point'"
   ]
  },
  {
   "cell_type": "markdown",
   "metadata": {
    "id": "eI1PdIKtLrpv",
    "papermill": {
     "duration": 0.044808,
     "end_time": "2020-12-18T22:02:11.416442",
     "exception": false,
     "start_time": "2020-12-18T22:02:11.371634",
     "status": "completed"
    },
    "tags": []
   },
   "source": [
    "# <span style=\"color: royalblue;\">Load Data</span>\n",
    "Load the image data with labels."
   ]
  },
  {
   "cell_type": "code",
   "execution_count": 2,
   "metadata": {
    "executionInfo": {
     "elapsed": 5562,
     "status": "ok",
     "timestamp": 1610938791263,
     "user": {
      "displayName": "Dũng Nguyễn Minh",
      "photoUrl": "",
      "userId": "05826558414739051995"
     },
     "user_tz": -420
    },
    "id": "HM1rN5gqd5aG"
   },
   "outputs": [],
   "source": [
    "import numpy as np\n",
    "from src.loadData import loadFer2013\n",
    "from keras.utils import to_categorical\n"
   ]
  },
  {
   "cell_type": "code",
   "execution_count": 3,
   "metadata": {
    "colab": {
     "base_uri": "https://localhost:8080/"
    },
    "executionInfo": {
     "elapsed": 1816,
     "status": "ok",
     "timestamp": 1610938791265,
     "user": {
      "displayName": "Dũng Nguyễn Minh",
      "photoUrl": "",
      "userId": "05826558414739051995"
     },
     "user_tz": -420
    },
    "id": "Nt9oKq3mo60M",
    "outputId": "55b9910d-f3f3-4993-ebd2-3f68c80072cf"
   },
   "outputs": [
    {
     "data": {
      "text/plain": [
       "['Angry', 'Disgust', 'Fear', 'Happy', 'Sad', 'Surprise', 'Neutral']"
      ]
     },
     "execution_count": 3,
     "metadata": {
      "tags": []
     },
     "output_type": "execute_result"
    }
   ],
   "source": [
    "emotions = {0: 'Angry', 1:'Disgust', 2:'Fear', 3: 'Happy', 4: 'Sad', 5: 'Surprise', 6: 'Neutral'}\n",
    "class_names = list(emotions.values())\n",
    "class_names"
   ]
  },
  {
   "cell_type": "code",
   "execution_count": 4,
   "metadata": {
    "executionInfo": {
     "elapsed": 8934,
     "status": "ok",
     "timestamp": 1610938801583,
     "user": {
      "displayName": "Dũng Nguyễn Minh",
      "photoUrl": "",
      "userId": "05826558414739051995"
     },
     "user_tz": -420
    },
    "id": "ct5pobN6eBgW"
   },
   "outputs": [],
   "source": [
    "X_train,X_val,X_test,y_train,y_val,y_test = loadFer2013('fer2013/icml_face_data.csv')\n",
    "\n",
    "y_train_onehot = to_categorical(y_train)\n",
    "y_val_onehot = to_categorical(y_val)\n",
    "y_test_onehot = to_categorical(y_test)"
   ]
  },
  {
   "cell_type": "code",
   "execution_count": 5,
   "metadata": {
    "colab": {
     "base_uri": "https://localhost:8080/"
    },
    "executionInfo": {
     "elapsed": 871,
     "status": "ok",
     "timestamp": 1610938809269,
     "user": {
      "displayName": "Dũng Nguyễn Minh",
      "photoUrl": "",
      "userId": "05826558414739051995"
     },
     "user_tz": -420
    },
    "id": "icEw_PExckCo",
    "outputId": "d011031b-0813-40a3-c670-eaa987276bf6"
   },
   "outputs": [
    {
     "data": {
      "text/plain": [
       "(28623, 48, 48)"
      ]
     },
     "execution_count": 5,
     "metadata": {
      "tags": []
     },
     "output_type": "execute_result"
    }
   ],
   "source": [
    "X_train.shape"
   ]
  },
  {
   "cell_type": "markdown",
   "metadata": {
    "id": "-9KsqSFYycZW"
   },
   "source": [
    "#Preprocessing"
   ]
  },
  {
   "cell_type": "code",
   "execution_count": 6,
   "metadata": {
    "executionInfo": {
     "elapsed": 948,
     "status": "ok",
     "timestamp": 1610938839265,
     "user": {
      "displayName": "Dũng Nguyễn Minh",
      "photoUrl": "",
      "userId": "05826558414739051995"
     },
     "user_tz": -420
    },
    "id": "lIAx61wiye5z"
   },
   "outputs": [],
   "source": [
    "def preprocessX(X):\n",
    "    return np.expand_dims(X,axis=-1)\n",
    "\n",
    "X_processed_val = preprocessX(X_val)\n",
    "X_processed_test = preprocessX(X_test)\n"
   ]
  },
  {
   "cell_type": "markdown",
   "metadata": {
    "id": "-DkOqeRecp0l"
   },
   "source": [
    "#Training"
   ]
  },
  {
   "cell_type": "code",
   "execution_count": 7,
   "metadata": {
    "executionInfo": {
     "elapsed": 953,
     "status": "ok",
     "timestamp": 1610938841406,
     "user": {
      "displayName": "Dũng Nguyễn Minh",
      "photoUrl": "",
      "userId": "05826558414739051995"
     },
     "user_tz": -420
    },
    "id": "WfXhrNLKi0sy"
   },
   "outputs": [],
   "source": [
    "import keras\n",
    "from keras.preprocessing import image\n",
    "from keras import applications as keras_applications"
   ]
  },
  {
   "cell_type": "code",
   "execution_count": 8,
   "metadata": {
    "colab": {
     "base_uri": "https://localhost:8080/"
    },
    "executionInfo": {
     "elapsed": 8419,
     "status": "ok",
     "timestamp": 1610938849220,
     "user": {
      "displayName": "Dũng Nguyễn Minh",
      "photoUrl": "",
      "userId": "05826558414739051995"
     },
     "user_tz": -420
    },
    "id": "zncRqtUejaMI",
    "outputId": "1bb5ca1d-9e55-493c-9b58-f5aa7e08db22"
   },
   "outputs": [
    {
     "name": "stdout",
     "output_type": "stream",
     "text": [
      "Collecting keras_applications\n",
      "\u001b[?25l  Downloading https://files.pythonhosted.org/packages/71/e3/19762fdfc62877ae9102edf6342d71b28fbfd9dea3d2f96a882ce099b03f/Keras_Applications-1.0.8-py3-none-any.whl (50kB)\n",
      "\r",
      "\u001b[K     |██████▌                         | 10kB 28.4MB/s eta 0:00:01\r",
      "\u001b[K     |█████████████                   | 20kB 14.2MB/s eta 0:00:01\r",
      "\u001b[K     |███████████████████▍            | 30kB 12.7MB/s eta 0:00:01\r",
      "\u001b[K     |█████████████████████████▉      | 40kB 12.0MB/s eta 0:00:01\r",
      "\u001b[K     |████████████████████████████████| 51kB 4.6MB/s \n",
      "\u001b[?25hRequirement already satisfied: h5py in /usr/local/lib/python3.6/dist-packages (from keras_applications) (2.10.0)\n",
      "Requirement already satisfied: numpy>=1.9.1 in /usr/local/lib/python3.6/dist-packages (from keras_applications) (1.19.5)\n",
      "Requirement already satisfied: six in /usr/local/lib/python3.6/dist-packages (from h5py->keras_applications) (1.15.0)\n",
      "Installing collected packages: keras-applications\n",
      "Successfully installed keras-applications-1.0.8\n",
      "Collecting git+https://github.com/rcmalli/keras-vggface.git\n",
      "  Cloning https://github.com/rcmalli/keras-vggface.git to /tmp/pip-req-build-5wdl3ihn\n",
      "  Running command git clone -q https://github.com/rcmalli/keras-vggface.git /tmp/pip-req-build-5wdl3ihn\n",
      "Requirement already satisfied: numpy>=1.9.1 in /usr/local/lib/python3.6/dist-packages (from keras-vggface==0.6) (1.19.5)\n",
      "Requirement already satisfied: scipy>=0.14 in /usr/local/lib/python3.6/dist-packages (from keras-vggface==0.6) (1.4.1)\n",
      "Requirement already satisfied: h5py in /usr/local/lib/python3.6/dist-packages (from keras-vggface==0.6) (2.10.0)\n",
      "Requirement already satisfied: pillow in /usr/local/lib/python3.6/dist-packages (from keras-vggface==0.6) (7.0.0)\n",
      "Requirement already satisfied: keras in /usr/local/lib/python3.6/dist-packages (from keras-vggface==0.6) (2.4.3)\n",
      "Requirement already satisfied: six>=1.9.0 in /usr/local/lib/python3.6/dist-packages (from keras-vggface==0.6) (1.15.0)\n",
      "Requirement already satisfied: pyyaml in /usr/local/lib/python3.6/dist-packages (from keras-vggface==0.6) (3.13)\n",
      "Building wheels for collected packages: keras-vggface\n",
      "  Building wheel for keras-vggface (setup.py) ... \u001b[?25l\u001b[?25hdone\n",
      "  Created wheel for keras-vggface: filename=keras_vggface-0.6-cp36-none-any.whl size=8310 sha256=d8183500f9c7472cb0e2ddad5431e57de49c157540ba2aac503dbb32ba15cb88\n",
      "  Stored in directory: /tmp/pip-ephem-wheel-cache-rwz7l5fn/wheels/36/07/46/06c25ce8e9cd396dabe151ea1d8a2bc28dafcb11321c1f3a6d\n",
      "Successfully built keras-vggface\n",
      "Installing collected packages: keras-vggface\n",
      "Successfully installed keras-vggface-0.6\n"
     ]
    }
   ],
   "source": [
    "!pip install keras_applications\n",
    "!pip install git+https://github.com/rcmalli/keras-vggface.git"
   ]
  },
  {
   "cell_type": "code",
   "execution_count": 9,
   "metadata": {
    "executionInfo": {
     "elapsed": 7640,
     "status": "ok",
     "timestamp": 1610938849222,
     "user": {
      "displayName": "Dũng Nguyễn Minh",
      "photoUrl": "",
      "userId": "05826558414739051995"
     },
     "user_tz": -420
    },
    "id": "cFzE7T-qjdO1"
   },
   "outputs": [],
   "source": [
    "from keras_vggface.vggface import VGGFace\n",
    "from keras_vggface import utils"
   ]
  },
  {
   "cell_type": "code",
   "execution_count": 10,
   "metadata": {
    "executionInfo": {
     "elapsed": 7044,
     "status": "ok",
     "timestamp": 1610938849223,
     "user": {
      "displayName": "Dũng Nguyễn Minh",
      "photoUrl": "",
      "userId": "05826558414739051995"
     },
     "user_tz": -420
    },
    "id": "c2b8HuspiHVx"
   },
   "outputs": [],
   "source": [
    "from copy import deepcopy as copy\n",
    "\n",
    "def smooth_labels(y, smooth_factor):\n",
    "    '''Convert a matrix of one-hot row-vector labels into smoothed versions.\n",
    "\n",
    "    # Arguments\n",
    "        y: matrix of one-hot row-vector labels to be smoothed\n",
    "        smooth_factor: label smoothing factor (between 0 and 1)\n",
    "\n",
    "    # Returns\n",
    "        A matrix of smoothed labels.\n",
    "    '''\n",
    "    assert len(y.shape) == 2, 'input should be a batch of one-hot-encoded data'\n",
    "    y2 = copy(y)\n",
    "    if 0 <= smooth_factor <= 1:\n",
    "        # label smoothing ref: https://www.robots.ox.ac.uk/~vgg/rg/papers/reinception.pdf\n",
    "        y2 *= 1 - smooth_factor\n",
    "        y2 += smooth_factor / y.shape[1]\n",
    "    else:\n",
    "        raise Exception(\n",
    "            'Invalid label smoothing factor: ' + str(smooth_factor))\n",
    "    return y2"
   ]
  },
  {
   "cell_type": "code",
   "execution_count": 11,
   "metadata": {
    "executionInfo": {
     "elapsed": 7409,
     "status": "ok",
     "timestamp": 1610938850214,
     "user": {
      "displayName": "Dũng Nguyễn Minh",
      "photoUrl": "",
      "userId": "05826558414739051995"
     },
     "user_tz": -420
    },
    "id": "CHi8FiFwiKuV"
   },
   "outputs": [],
   "source": [
    "from keras.utils import Sequence\n",
    "from keras.utils import to_categorical\n",
    "import cv2\n",
    "from math import floor\n",
    "\n",
    "class data_sequence(Sequence):\n",
    "    '''\n",
    "      yield sequence of data\n",
    "      features -- list of features\n",
    "      labels -- list of labels\n",
    "      target_channels {int} -- 1 (gray) or 3(RGB)\n",
    "    '''\n",
    "    def __init__(self, features, labels, batch_size=128, target_dim=(224,224), \n",
    "                 n_classes=7, shuffle=True, smooth=0.0, ver=2):\n",
    "        'Initialization'\n",
    "        assert len(features)==len(labels), 'number of feature and labels not consistent'\n",
    "        self.features = features\n",
    "        self.labels = labels\n",
    "        self.batch_size = batch_size\n",
    "        self.target_dim = target_dim\n",
    "        self.target_channels = 3\n",
    "        self.n_classes = n_classes\n",
    "        self.shuffle = shuffle\n",
    "        self.smooth = smooth\n",
    "        self.sample_count = len(labels)\n",
    "        self.indexes = np.arange(self.sample_count)\n",
    "        self.on_epoch_end()\n",
    "        self.ver = ver\n",
    "#         self.verbose = verbose\n",
    "\n",
    "    def __len__(self):\n",
    "        'Denotes the number of batches per epoch'\n",
    "        return floor(self.sample_count / self.batch_size)\n",
    "\n",
    "    def __gray2RGB__(self,x):\n",
    "      if len(x.shape)==2:\n",
    "        return np.stack((x,x,x),-1)\n",
    "      else:\n",
    "        assert len(x.shape)==3\n",
    "        if len(x[0,0,:]) == 1:\n",
    "          return np.stack((x[:,:,0],x[:,:,0],x[:,:,0]),-1)\n",
    "        else:\n",
    "          assert len(x[0,0,:])==self.target_channels\n",
    "      return x\n",
    "\n",
    "\n",
    "    def __getitem__(self, idx):\n",
    "        'Generate one batch of data'\n",
    "        # Generate indexes of the batch\n",
    "        indexes = self.indexes[idx * self.batch_size : (idx + 1) * self.batch_size]\n",
    "        X = np.empty((self.batch_size, *self.target_dim, self.target_channels))\n",
    "        Y = np.empty((self.batch_size, self.n_classes))\n",
    "        for i,ind in enumerate(indexes):\n",
    "          x = self.features[ind]\n",
    "          # resize image to the target size \n",
    "          x = cv2.resize(x,self.target_dim,interpolation=cv2.INTER_CUBIC)\n",
    "          x = self.__gray2RGB__(x)\n",
    "          X[i] = utils.preprocess_input(x, version=self.ver) # or version=2 for VGGFace2 ResNet50  \n",
    "          y = self.labels[ind]\n",
    "          if isinstance(y,int):\n",
    "            Y[i]=to_categorical(y,7)\n",
    "          else:\n",
    "            assert len(y)==self.n_classes\n",
    "            Y[i]=y\n",
    "        X = np.array(X)\n",
    "        Y = np.array(Y)\n",
    "        if self.smooth > 0.0:\n",
    "          smooth_labels(Y, self.smooth)\n",
    "        return X,Y\n",
    "\n",
    "    def on_epoch_end(self):\n",
    "        'Updates indexes after each epoch'\n",
    "        if self.shuffle == True:\n",
    "            np.random.shuffle(self.indexes)"
   ]
  },
  {
   "cell_type": "markdown",
   "metadata": {
    "id": "SQARMLYepeAF"
   },
   "source": [
    "#Model"
   ]
  },
  {
   "cell_type": "code",
   "execution_count": 12,
   "metadata": {
    "executionInfo": {
     "elapsed": 11033,
     "status": "ok",
     "timestamp": 1610938916875,
     "user": {
      "displayName": "Dũng Nguyễn Minh",
      "photoUrl": "",
      "userId": "05826558414739051995"
     },
     "user_tz": -420
    },
    "id": "WDSeaJn_cjq9"
   },
   "outputs": [],
   "source": [
    "model = keras.models.load_model('Final_model/VGGFACE2_V1_RandomOverSampling.h5')"
   ]
  },
  {
   "cell_type": "code",
   "execution_count": 13,
   "metadata": {
    "executionInfo": {
     "elapsed": 7021,
     "status": "ok",
     "timestamp": 1610938918466,
     "user": {
      "displayName": "Dũng Nguyễn Minh",
      "photoUrl": "",
      "userId": "05826558414739051995"
     },
     "user_tz": -420
    },
    "id": "kHDz2FECd3Nx"
   },
   "outputs": [],
   "source": [
    "model_vggface1 = keras.models.load_model('Final_model/VGGFACE1.h5')"
   ]
  },
  {
   "cell_type": "code",
   "execution_count": null,
   "metadata": {
    "id": "nd4dL2rGut6n"
   },
   "outputs": [],
   "source": [
    "val_sequence  = data_sequence(X_processed_val, y_val_onehot, batch_size=37,target_dim=(224,224),n_classes=7,shuffle=False,smooth=0.0,ver=2)"
   ]
  },
  {
   "cell_type": "code",
   "execution_count": 14,
   "metadata": {
    "executionInfo": {
     "elapsed": 718,
     "status": "ok",
     "timestamp": 1610938923228,
     "user": {
      "displayName": "Dũng Nguyễn Minh",
      "photoUrl": "",
      "userId": "05826558414739051995"
     },
     "user_tz": -420
    },
    "id": "Ry1_ACAIibmg"
   },
   "outputs": [],
   "source": [
    "test_sequence  = data_sequence(X_processed_test, y_test_onehot, batch_size=37,target_dim=(224,224),n_classes=7,shuffle=False,smooth=0.0,ver=2)\n"
   ]
  },
  {
   "cell_type": "code",
   "execution_count": null,
   "metadata": {
    "id": "SOLRJR7SiWF-"
   },
   "outputs": [],
   "source": [
    "y_pred_v2 = model.predict(val_sequence)"
   ]
  },
  {
   "cell_type": "code",
   "execution_count": null,
   "metadata": {
    "id": "ZVM-3AC4jCXx"
   },
   "outputs": [],
   "source": [
    "y_pred_v1 = model_vggface1.predict(val_sequence)\n"
   ]
  },
  {
   "cell_type": "code",
   "execution_count": 19,
   "metadata": {
    "executionInfo": {
     "elapsed": 1620,
     "status": "ok",
     "timestamp": 1610938975606,
     "user": {
      "displayName": "Dũng Nguyễn Minh",
      "photoUrl": "",
      "userId": "05826558414739051995"
     },
     "user_tz": -420
    },
    "id": "fL3IhNRNi13e"
   },
   "outputs": [],
   "source": [
    "from sklearn.metrics import accuracy_score\n"
   ]
  },
  {
   "cell_type": "code",
   "execution_count": null,
   "metadata": {
    "id": "EXkpk1wVjTx3"
   },
   "outputs": [],
   "source": [
    "y_pred = (y_pred_v1+y_pred_v2)/2\n",
    "y_pred = np.argmax(y_pred, axis=-1)"
   ]
  },
  {
   "cell_type": "code",
   "execution_count": null,
   "metadata": {
    "colab": {
     "base_uri": "https://localhost:8080/"
    },
    "executionInfo": {
     "elapsed": 1075,
     "status": "ok",
     "timestamp": 1610832610094,
     "user": {
      "displayName": "Dũng Nguyễn Minh",
      "photoUrl": "",
      "userId": "05826558414739051995"
     },
     "user_tz": -420
    },
    "id": "TcDdTaLOj3xk",
    "outputId": "0f1bf121-42e9-476e-afd4-fac97ae33aeb"
   },
   "outputs": [
    {
     "name": "stdout",
     "output_type": "stream",
     "text": [
      "0.7283365840066871\n"
     ]
    }
   ],
   "source": [
    "print(accuracy_score(y_pred,y_val))\n"
   ]
  },
  {
   "cell_type": "markdown",
   "metadata": {
    "id": "oUP8yxbMNfzS"
   },
   "source": [
    "#test data"
   ]
  },
  {
   "cell_type": "code",
   "execution_count": 15,
   "metadata": {
    "executionInfo": {
     "elapsed": 18086,
     "status": "ok",
     "timestamp": 1610938946891,
     "user": {
      "displayName": "Dũng Nguyễn Minh",
      "photoUrl": "",
      "userId": "05826558414739051995"
     },
     "user_tz": -420
    },
    "id": "kyeHv4hXe4_R"
   },
   "outputs": [],
   "source": [
    "y_pred_v2 = model.predict(test_sequence)"
   ]
  },
  {
   "cell_type": "code",
   "execution_count": 16,
   "metadata": {
    "executionInfo": {
     "elapsed": 32279,
     "status": "ok",
     "timestamp": 1610938962752,
     "user": {
      "displayName": "Dũng Nguyễn Minh",
      "photoUrl": "",
      "userId": "05826558414739051995"
     },
     "user_tz": -420
    },
    "id": "R6aaMWv3e6mn"
   },
   "outputs": [],
   "source": [
    "y_pred_v1 = model_vggface1.predict(test_sequence)"
   ]
  },
  {
   "cell_type": "code",
   "execution_count": 17,
   "metadata": {
    "executionInfo": {
     "elapsed": 871,
     "status": "ok",
     "timestamp": 1610938965947,
     "user": {
      "displayName": "Dũng Nguyễn Minh",
      "photoUrl": "",
      "userId": "05826558414739051995"
     },
     "user_tz": -420
    },
    "id": "-QOoC7s0e_MN"
   },
   "outputs": [],
   "source": [
    "y_pred = (y_pred_v1*+y_pred_v2)/2\n",
    "y_pred = np.argmax(y_pred, axis=-1)"
   ]
  },
  {
   "cell_type": "code",
   "execution_count": 20,
   "metadata": {
    "colab": {
     "base_uri": "https://localhost:8080/"
    },
    "executionInfo": {
     "elapsed": 652,
     "status": "ok",
     "timestamp": 1610938978765,
     "user": {
      "displayName": "Dũng Nguyễn Minh",
      "photoUrl": "",
      "userId": "05826558414739051995"
     },
     "user_tz": -420
    },
    "id": "8-S1oqFzfD4B",
    "outputId": "6187f713-2747-4b85-c2c0-3d8f0f35e429"
   },
   "outputs": [
    {
     "name": "stdout",
     "output_type": "stream",
     "text": [
      "0.7470047366954583\n"
     ]
    }
   ],
   "source": [
    "print(accuracy_score(y_pred,y_test))\n"
   ]
  },
  {
   "cell_type": "code",
   "execution_count": 35,
   "metadata": {
    "colab": {
     "base_uri": "https://localhost:8080/"
    },
    "executionInfo": {
     "elapsed": 525,
     "status": "ok",
     "timestamp": 1610940561384,
     "user": {
      "displayName": "Dũng Nguyễn Minh",
      "photoUrl": "",
      "userId": "05826558414739051995"
     },
     "user_tz": -420
    },
    "id": "Uy6UosBHckwq",
    "outputId": "8bfe9743-9b81-4a58-c467-3a182f76eba1"
   },
   "outputs": [
    {
     "name": "stdout",
     "output_type": "stream",
     "text": [
      "[0 2 4 0 2 0 6 3 2 3]\n",
      "[0 5 6 4 2 0 4 3 0 3]\n"
     ]
    }
   ],
   "source": [
    "print(y_pred[:10])\n",
    "print(y_test[:10])"
   ]
  },
  {
   "cell_type": "code",
   "execution_count": 37,
   "metadata": {
    "colab": {
     "base_uri": "https://localhost:8080/",
     "height": 265
    },
    "executionInfo": {
     "elapsed": 954,
     "status": "ok",
     "timestamp": 1610940609720,
     "user": {
      "displayName": "Dũng Nguyễn Minh",
      "photoUrl": "",
      "userId": "05826558414739051995"
     },
     "user_tz": -420
    },
    "id": "kAcQ61e4eTUB",
    "outputId": "8b4653cf-d353-4c6b-8fab-5ab9632243ab"
   },
   "outputs": [
    {
     "data": {
      "text/plain": [
       "(-0.5, 47.5, 47.5, -0.5)"
      ]
     },
     "execution_count": 37,
     "metadata": {
      "tags": []
     },
     "output_type": "execute_result"
    },
    {
     "data": {
      "image/png": "[encoded data removed]",
      "text/plain": [
       "<Figure size 432x288 with 1 Axes>"
      ]
     },
     "metadata": {
      "needs_background": "light",
      "tags": []
     },
     "output_type": "display_data"
    }
   ],
   "source": [
    "import matplotlib.pyplot as plt\n",
    "\n",
    "plt.imshow(X_test[6].astype(np.uint8),cmap='gray')\n",
    "plt.axis('off')"
   ]
  },
  {
   "cell_type": "code",
   "execution_count": 39,
   "metadata": {
    "colab": {
     "base_uri": "https://localhost:8080/",
     "height": 35
    },
    "executionInfo": {
     "elapsed": 864,
     "status": "ok",
     "timestamp": 1610940631429,
     "user": {
      "displayName": "Dũng Nguyễn Minh",
      "photoUrl": "",
      "userId": "05826558414739051995"
     },
     "user_tz": -420
    },
    "id": "eyFqoEBZfhr4",
    "outputId": "c47d2c2b-3057-4503-b27e-e4a52fb0e54b"
   },
   "outputs": [
    {
     "data": {
      "application/vnd.google.colaboratory.intrinsic+json": {
       "type": "string"
      },
      "text/plain": [
       "'Sad'"
      ]
     },
     "execution_count": 39,
     "metadata": {
      "tags": []
     },
     "output_type": "execute_result"
    }
   ],
   "source": [
    "emotions[4]"
   ]
  },
  {
   "cell_type": "code",
   "execution_count": null,
   "metadata": {
    "id": "R7ZwvC--fFSa"
   },
   "outputs": [],
   "source": [
    "import pandas as pd\n",
    "import tensorflow as tf\n",
    "\n",
    "confusion_matrix = tf.math.confusion_matrix(labels=y_test, predictions=y_pred).numpy()\n",
    "confusion_matrix = np.around(confusion_matrix.astype('float') / confusion_matrix.sum(axis=1)[:, np.newaxis], decimals=2)\n",
    "\n",
    "confusion_matrix = pd.DataFrame(confusion_matrix,\n",
    "                                index = class_names, \n",
    "                                columns = class_names)"
   ]
  },
  {
   "cell_type": "code",
   "execution_count": null,
   "metadata": {
    "colab": {
     "base_uri": "https://localhost:8080/",
     "height": 599
    },
    "executionInfo": {
     "elapsed": 22827,
     "status": "ok",
     "timestamp": 1610832636176,
     "user": {
      "displayName": "Dũng Nguyễn Minh",
      "photoUrl": "",
      "userId": "05826558414739051995"
     },
     "user_tz": -420
    },
    "id": "ItkQl8AdfWM1",
    "outputId": "10278259-2127-440d-a1ca-8c8f0c726b46"
   },
   "outputs": [
    {
     "data": {
      "image/png": "[encoded data removed]",
      "text/plain": [
       "<Figure size 576x576 with 2 Axes>"
      ]
     },
     "metadata": {
      "needs_background": "light",
      "tags": []
     },
     "output_type": "display_data"
    }
   ],
   "source": [
    "import seaborn as sns\n",
    "import matplotlib.pyplot as plt\n",
    "\n",
    "figure = plt.figure(figsize=(8, 8))\n",
    "sns.heatmap(confusion_matrix, annot=True,cmap=plt.cm.Blues)\n",
    "plt.tight_layout()\n",
    "plt.ylabel('True label')\n",
    "plt.xlabel('Predicted label')\n",
    "plt.show()"
   ]
  },
  {
   "cell_type": "code",
   "execution_count": null,
   "metadata": {
    "id": "q4SRwoWIfdPf"
   },
   "outputs": [],
   "source": []
  }
 ],
 "metadata": {
  "accelerator": "GPU",
  "colab": {
   "collapsed_sections": [],
   "name": "TN8_Ensemble_v1_randomoversampling.ipynb",
   "provenance": []
  },
  "kernelspec": {
   "display_name": "Python 3",
   "language": "python",
   "name": "python3"
  },
  "language_info": {
   "codemirror_mode": {
    "name": "ipython",
    "version": 3
   },
   "file_extension": ".py",
   "mimetype": "text/x-python",
   "name": "python",
   "nbconvert_exporter": "python",
   "pygments_lexer": "ipython3",
   "version": "3.7.9"
  }
 },
 "nbformat": 4,
 "nbformat_minor": 1
}
