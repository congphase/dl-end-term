{
 "cells": [
  {
   "cell_type": "code",
   "execution_count": 1,
   "metadata": {
    "colab": {
     "base_uri": "https://localhost:8080/"
    },
    "id": "PL21Mz5-OeDg",
    "outputId": "5a25c091-412d-49f4-e22c-11090413c691"
   },
   "outputs": [
    {
     "name": "stdout",
     "output_type": "stream",
     "text": [
      "Drive already mounted at /content/drive; to attempt to forcibly remount, call drive.mount(\"/content/drive\", force_remount=True).\n",
      "/content/drive/.shortcut-targets-by-id/1BOvFtzoVhfYNe70lBGxYzhPlDElSrazo/Final_Project_DL\n"
     ]
    }
   ],
   "source": [
    "# Mount \"My Drive\" into /content/drive\n",
    "from google.colab import drive\n",
    "private_dir = \"Courses-VinBigdata/Course-Deep-Learning/Project/\"\n",
    "google_drive_dir = \"Final_Project_DL\"  # @param\n",
    "#bml-notebooks/\n",
    "drive.mount('/content/drive')\n",
    "\n",
    "mount_point = \"/content/drive/MyDrive/{}\".format(google_drive_dir)\n",
    "\n",
    "# Change the root directory to your mount_point\n",
    "%cd '$mount_point'"
   ]
  },
  {
   "cell_type": "markdown",
   "metadata": {
    "id": "eI1PdIKtLrpv",
    "papermill": {
     "duration": 0.044808,
     "end_time": "2020-12-18T22:02:11.416442",
     "exception": false,
     "start_time": "2020-12-18T22:02:11.371634",
     "status": "completed"
    },
    "tags": []
   },
   "source": [
    "# <span style=\"color: royalblue;\">Load Data</span>\n",
    "Load the image data with labels."
   ]
  },
  {
   "cell_type": "code",
   "execution_count": 2,
   "metadata": {
    "id": "HM1rN5gqd5aG"
   },
   "outputs": [],
   "source": [
    "import numpy as np\n",
    "from src.loadData import loadFer2013\n",
    "from keras.utils import to_categorical\n"
   ]
  },
  {
   "cell_type": "code",
   "execution_count": 3,
   "metadata": {
    "colab": {
     "base_uri": "https://localhost:8080/"
    },
    "id": "Nt9oKq3mo60M",
    "outputId": "7469f574-6d99-490d-f30d-580a08053636"
   },
   "outputs": [
    {
     "data": {
      "text/plain": [
       "['Angry', 'Disgust', 'Fear', 'Happy', 'Sad', 'Surprise', 'Neutral']"
      ]
     },
     "execution_count": 3,
     "metadata": {
      "tags": []
     },
     "output_type": "execute_result"
    }
   ],
   "source": [
    "emotions = {0: 'Angry', 1:'Disgust', 2:'Fear', 3: 'Happy', 4: 'Sad', 5: 'Surprise', 6: 'Neutral'}\n",
    "class_names = list(emotions.values())\n",
    "class_names"
   ]
  },
  {
   "cell_type": "code",
   "execution_count": 4,
   "metadata": {
    "id": "ct5pobN6eBgW"
   },
   "outputs": [],
   "source": [
    "X_train,X_val,X_test,y_train,y_val,y_test = loadFer2013('fer2013/icml_face_data.csv')\n",
    "\n",
    "y_train_onehot = to_categorical(y_train)\n",
    "y_val_onehot = to_categorical(y_val)\n",
    "y_test_onehot = to_categorical(y_test)"
   ]
  },
  {
   "cell_type": "code",
   "execution_count": 5,
   "metadata": {
    "colab": {
     "base_uri": "https://localhost:8080/"
    },
    "id": "icEw_PExckCo",
    "outputId": "0eacc751-dab5-4290-a9cf-ac73214f6175"
   },
   "outputs": [
    {
     "data": {
      "text/plain": [
       "(28623, 48, 48)"
      ]
     },
     "execution_count": 5,
     "metadata": {
      "tags": []
     },
     "output_type": "execute_result"
    }
   ],
   "source": [
    "X_train.shape"
   ]
  },
  {
   "cell_type": "markdown",
   "metadata": {
    "id": "c5gLac_xzyq_"
   },
   "source": [
    "#Imbalance Data"
   ]
  },
  {
   "cell_type": "code",
   "execution_count": 6,
   "metadata": {
    "id": "oTyNSLwTz1ww"
   },
   "outputs": [],
   "source": [
    "import imblearn\n",
    "\n",
    "if imblearn.__version__.split('.')[1] != '7':\n",
    "   !pip install -U imbalanced-learn"
   ]
  },
  {
   "cell_type": "code",
   "execution_count": 7,
   "metadata": {
    "id": "gQqZCIev_L5u"
   },
   "outputs": [],
   "source": [
    "def SMOTE_data(X_train,y_train,mode='smote'):\n",
    "    if mode=='random':\n",
    "        oversample = imblearn.over_sampling.RandomOverSampler(sampling_strategy='auto')\n",
    "    else:\n",
    "        oversample = imblearn.over_sampling.SMOTE()\n",
    "\n",
    "    X_train = X_train.reshape(X_train.shape[0], -1)\n",
    "\n",
    "    X_train, y_train = oversample.fit_resample(X_train, y_train)\n",
    "\n",
    "    X_train = X_train.reshape((X_train.shape[0], 48, 48))\n",
    "\n",
    "    return X_train, y_train"
   ]
  },
  {
   "cell_type": "code",
   "execution_count": 8,
   "metadata": {
    "id": "Dz3fxghSAHnV"
   },
   "outputs": [],
   "source": [
    "X_train_smote,y_train_smote= SMOTE_data(X_train,y_train,mode='random')\n",
    "y_train_onehot = to_categorical(y_train_smote)"
   ]
  },
  {
   "cell_type": "markdown",
   "metadata": {
    "id": "-9KsqSFYycZW"
   },
   "source": [
    "#Preprocessing"
   ]
  },
  {
   "cell_type": "code",
   "execution_count": 9,
   "metadata": {
    "colab": {
     "base_uri": "https://localhost:8080/"
    },
    "id": "lIAx61wiye5z",
    "outputId": "6c7ac5ee-779a-4b91-c46e-0e4dee278d95"
   },
   "outputs": [
    {
     "data": {
      "text/plain": [
       "((50351, 48, 48, 1), (3589, 48, 48, 1), (3589, 48, 48, 1))"
      ]
     },
     "execution_count": 9,
     "metadata": {
      "tags": []
     },
     "output_type": "execute_result"
    }
   ],
   "source": [
    "def preprocessX(X):\n",
    "    # X = X.astype(np.float32)\n",
    "    # X = (X - X.mean())/X.std()\n",
    "    # X = X.astype(np.uint8)\n",
    "    return np.expand_dims(X,axis=-1)\n",
    "\n",
    "X_processed_train = preprocessX(X_train_smote)\n",
    "X_processed_val = preprocessX(X_val)\n",
    "X_processed_test = preprocessX(X_test)\n",
    "X_processed_train.shape,X_processed_val.shape,X_processed_test.shape"
   ]
  },
  {
   "cell_type": "markdown",
   "metadata": {
    "id": "-DkOqeRecp0l"
   },
   "source": [
    "#Training"
   ]
  },
  {
   "cell_type": "code",
   "execution_count": 10,
   "metadata": {
    "id": "WfXhrNLKi0sy"
   },
   "outputs": [],
   "source": [
    "import keras\n",
    "from keras.preprocessing import image\n",
    "from keras import applications as keras_applications"
   ]
  },
  {
   "cell_type": "code",
   "execution_count": 11,
   "metadata": {
    "colab": {
     "base_uri": "https://localhost:8080/"
    },
    "id": "zncRqtUejaMI",
    "outputId": "759b58ab-2511-4b54-d3f8-f67c6c87e51d"
   },
   "outputs": [
    {
     "name": "stdout",
     "output_type": "stream",
     "text": [
      "Collecting keras_applications\n",
      "\u001b[?25l  Downloading https://files.pythonhosted.org/packages/71/e3/19762fdfc62877ae9102edf6342d71b28fbfd9dea3d2f96a882ce099b03f/Keras_Applications-1.0.8-py3-none-any.whl (50kB)\n",
      "\r",
      "\u001b[K     |██████▌                         | 10kB 23.4MB/s eta 0:00:01\r",
      "\u001b[K     |█████████████                   | 20kB 10.5MB/s eta 0:00:01\r",
      "\u001b[K     |███████████████████▍            | 30kB 8.3MB/s eta 0:00:01\r",
      "\u001b[K     |█████████████████████████▉      | 40kB 7.5MB/s eta 0:00:01\r",
      "\u001b[K     |████████████████████████████████| 51kB 3.0MB/s \n",
      "\u001b[?25hRequirement already satisfied: numpy>=1.9.1 in /usr/local/lib/python3.6/dist-packages (from keras_applications) (1.19.5)\n",
      "Requirement already satisfied: h5py in /usr/local/lib/python3.6/dist-packages (from keras_applications) (2.10.0)\n",
      "Requirement already satisfied: six in /usr/local/lib/python3.6/dist-packages (from h5py->keras_applications) (1.15.0)\n",
      "Installing collected packages: keras-applications\n",
      "Successfully installed keras-applications-1.0.8\n",
      "Collecting git+https://github.com/rcmalli/keras-vggface.git\n",
      "  Cloning https://github.com/rcmalli/keras-vggface.git to /tmp/pip-req-build-jabjrgya\n",
      "  Running command git clone -q https://github.com/rcmalli/keras-vggface.git /tmp/pip-req-build-jabjrgya\n",
      "Requirement already satisfied: numpy>=1.9.1 in /usr/local/lib/python3.6/dist-packages (from keras-vggface==0.6) (1.19.5)\n",
      "Requirement already satisfied: scipy>=0.14 in /usr/local/lib/python3.6/dist-packages (from keras-vggface==0.6) (1.4.1)\n",
      "Requirement already satisfied: h5py in /usr/local/lib/python3.6/dist-packages (from keras-vggface==0.6) (2.10.0)\n",
      "Requirement already satisfied: pillow in /usr/local/lib/python3.6/dist-packages (from keras-vggface==0.6) (7.0.0)\n",
      "Requirement already satisfied: keras in /usr/local/lib/python3.6/dist-packages (from keras-vggface==0.6) (2.4.3)\n",
      "Requirement already satisfied: six>=1.9.0 in /usr/local/lib/python3.6/dist-packages (from keras-vggface==0.6) (1.15.0)\n",
      "Requirement already satisfied: pyyaml in /usr/local/lib/python3.6/dist-packages (from keras-vggface==0.6) (3.13)\n",
      "Building wheels for collected packages: keras-vggface\n",
      "  Building wheel for keras-vggface (setup.py) ... \u001b[?25l\u001b[?25hdone\n",
      "  Created wheel for keras-vggface: filename=keras_vggface-0.6-cp36-none-any.whl size=8310 sha256=0089f3e55c5e30997245f6a8ef68ca7f36473f60ef2ea94e816b2fe3f1935b53\n",
      "  Stored in directory: /tmp/pip-ephem-wheel-cache-i5nqzxu6/wheels/36/07/46/06c25ce8e9cd396dabe151ea1d8a2bc28dafcb11321c1f3a6d\n",
      "Successfully built keras-vggface\n",
      "Installing collected packages: keras-vggface\n",
      "Successfully installed keras-vggface-0.6\n"
     ]
    }
   ],
   "source": [
    "!pip install keras_applications\n",
    "!pip install git+https://github.com/rcmalli/keras-vggface.git"
   ]
  },
  {
   "cell_type": "code",
   "execution_count": 12,
   "metadata": {
    "id": "cFzE7T-qjdO1"
   },
   "outputs": [],
   "source": [
    "from keras_vggface.vggface import VGGFace\n",
    "from keras_vggface import utils"
   ]
  },
  {
   "cell_type": "code",
   "execution_count": 13,
   "metadata": {
    "id": "c2b8HuspiHVx"
   },
   "outputs": [],
   "source": [
    "from copy import deepcopy as copy\n",
    "\n",
    "def smooth_labels(y, smooth_factor):\n",
    "    '''Convert a matrix of one-hot row-vector labels into smoothed versions.\n",
    "\n",
    "    # Arguments\n",
    "        y: matrix of one-hot row-vector labels to be smoothed\n",
    "        smooth_factor: label smoothing factor (between 0 and 1)\n",
    "\n",
    "    # Returns\n",
    "        A matrix of smoothed labels.\n",
    "    '''\n",
    "    assert len(y.shape) == 2, 'input should be a batch of one-hot-encoded data'\n",
    "    y2 = copy(y)\n",
    "    if 0 <= smooth_factor <= 1:\n",
    "        # label smoothing ref: https://www.robots.ox.ac.uk/~vgg/rg/papers/reinception.pdf\n",
    "        y2 *= 1 - smooth_factor\n",
    "        y2 += smooth_factor / y.shape[1]\n",
    "    else:\n",
    "        raise Exception(\n",
    "            'Invalid label smoothing factor: ' + str(smooth_factor))\n",
    "    return y2"
   ]
  },
  {
   "cell_type": "code",
   "execution_count": 14,
   "metadata": {
    "id": "CHi8FiFwiKuV"
   },
   "outputs": [],
   "source": [
    "from keras.utils import Sequence\n",
    "from keras.utils import to_categorical\n",
    "import cv2\n",
    "from math import floor\n",
    "\n",
    "class data_sequence(Sequence):\n",
    "    '''\n",
    "      yield sequence of data\n",
    "      features -- list of features\n",
    "      labels -- list of labels\n",
    "      target_channels {int} -- 1 (gray) or 3(RGB)\n",
    "    '''\n",
    "    def __init__(self, features, labels, batch_size=128, target_dim=(224,224), \n",
    "                 n_classes=7, shuffle=True, smooth=0.0):\n",
    "        'Initialization'\n",
    "        assert len(features)==len(labels), 'number of feature and labels not consistent'\n",
    "        self.features = features\n",
    "        self.labels = labels\n",
    "        self.batch_size = batch_size\n",
    "        self.target_dim = target_dim\n",
    "        self.target_channels = 3\n",
    "        self.n_classes = n_classes\n",
    "        self.shuffle = shuffle\n",
    "        self.smooth = smooth\n",
    "        self.sample_count = len(labels)\n",
    "        self.indexes = np.arange(self.sample_count)\n",
    "        self.on_epoch_end()\n",
    "#         self.verbose = verbose\n",
    "\n",
    "    def __len__(self):\n",
    "        'Denotes the number of batches per epoch'\n",
    "        return floor(self.sample_count / self.batch_size)\n",
    "\n",
    "    def __gray2RGB__(self,x):\n",
    "      if len(x.shape)==2:\n",
    "        return np.stack((x,x,x),-1)\n",
    "      else:\n",
    "        assert len(x.shape)==3\n",
    "        if len(x[0,0,:]) == 1:\n",
    "          return np.stack((x[:,:,0],x[:,:,0],x[:,:,0]),-1)\n",
    "        else:\n",
    "          assert len(x[0,0,:])==self.target_channels\n",
    "      return x\n",
    "\n",
    "\n",
    "    def __getitem__(self, idx):\n",
    "        'Generate one batch of data'\n",
    "        # Generate indexes of the batch\n",
    "        indexes = self.indexes[idx * self.batch_size : (idx + 1) * self.batch_size]\n",
    "        X = np.empty((self.batch_size, *self.target_dim, self.target_channels))\n",
    "        Y = np.empty((self.batch_size, self.n_classes))\n",
    "        for i,ind in enumerate(indexes):\n",
    "          x = self.features[ind]\n",
    "          # resize image to the target size \n",
    "          x = cv2.resize(x,self.target_dim,interpolation=cv2.INTER_CUBIC)\n",
    "          # x = cv2.equalizeHist(x)\n",
    "          # x = x.astype(np.float64)\n",
    "          x = self.__gray2RGB__(x)\n",
    "          X[i] = utils.preprocess_input(x, version=2) # or version=2 for VGGFace2 ResNet50  \n",
    "          y = self.labels[ind]\n",
    "          if isinstance(y,int):\n",
    "            Y[i]=to_categorical(y,7)\n",
    "          else:\n",
    "            assert len(y)==self.n_classes\n",
    "            Y[i]=y\n",
    "        X = np.array(X)\n",
    "        Y = np.array(Y)\n",
    "        if self.smooth > 0.0:\n",
    "          smooth_labels(Y, self.smooth)\n",
    "        return X,Y\n",
    "\n",
    "    def on_epoch_end(self):\n",
    "        'Updates indexes after each epoch'\n",
    "        if self.shuffle == True:\n",
    "            np.random.shuffle(self.indexes)"
   ]
  },
  {
   "cell_type": "markdown",
   "metadata": {
    "id": "SQARMLYepeAF"
   },
   "source": [
    "#Model"
   ]
  },
  {
   "cell_type": "code",
   "execution_count": 15,
   "metadata": {
    "id": "nd4dL2rGut6n"
   },
   "outputs": [],
   "source": [
    "train_sequence = data_sequence(X_processed_train,y_train_onehot,batch_size=64,target_dim=(224,224),n_classes=7,shuffle=True,smooth=0.07)\n",
    "val_sequence   = data_sequence(X_processed_val,  y_val_onehot,  batch_size=64,target_dim=(224,224),n_classes=7,shuffle=True,smooth=0.0)\n",
    "test_sequence  = data_sequence(X_processed_test, y_test_onehot, batch_size=64,target_dim=(224,224),n_classes=7,shuffle=True,smooth=0.0)"
   ]
  },
  {
   "cell_type": "code",
   "execution_count": null,
   "metadata": {
    "id": "vxHfG-yZ0QdT"
   },
   "outputs": [],
   "source": [
    "vggface = VGGFace(model='resnet50', include_top=False, input_shape = (224,224,3))\n",
    "vggface.trainable = False\n",
    "vggface.summary()"
   ]
  },
  {
   "cell_type": "code",
   "execution_count": null,
   "metadata": {
    "colab": {
     "base_uri": "https://localhost:8080/"
    },
    "id": "DkvtsXYlgYxk",
    "outputId": "d500d542-ce46-4dc2-9549-19ce32ac975e"
   },
   "outputs": [
    {
     "name": "stdout",
     "output_type": "stream",
     "text": [
      "Model: \"sequential_1\"\n",
      "_________________________________________________________________\n",
      "Layer (type)                 Output Shape              Param #   \n",
      "=================================================================\n",
      "vggface_resnet50 (Functional (None, 1, 1, 2048)        23561152  \n",
      "_________________________________________________________________\n",
      "flatten_1 (Flatten)          (None, 2048)              0         \n",
      "_________________________________________________________________\n",
      "dropout_2 (Dropout)          (None, 2048)              0         \n",
      "_________________________________________________________________\n",
      "dense_2 (Dense)              (None, 2048)              4196352   \n",
      "_________________________________________________________________\n",
      "dropout_3 (Dropout)          (None, 2048)              0         \n",
      "_________________________________________________________________\n",
      "dense_3 (Dense)              (None, 1024)              2098176   \n",
      "_________________________________________________________________\n",
      "classifer (Dense)            (None, 7)                 7175      \n",
      "=================================================================\n",
      "Total params: 29,862,855\n",
      "Trainable params: 6,301,703\n",
      "Non-trainable params: 23,561,152\n",
      "_________________________________________________________________\n"
     ]
    }
   ],
   "source": [
    "from keras.models import Sequential\n",
    "from keras.layers import Flatten\n",
    "from keras.layers import Dense\n",
    "from keras.layers import Dropout\n",
    "from keras.layers import BatchNormalization\n",
    "\n",
    "# model = Sequential([vggface,\n",
    "#                     Flatten(),\n",
    "#                     Dropout(0.5),\n",
    "#                     BatchNormalization(),\n",
    "#                     Dense(128, activation='relu'),\n",
    "#                     Dropout(0.5),\n",
    "#                     BatchNormalization(),\n",
    "#                     Dense(len(emotion_dict), activation='softmax', name = 'classifer')])\n",
    "model = Sequential([vggface,\n",
    "                    Flatten(),\n",
    "                    Dropout(0.25),\n",
    "                    Dense(2048, activation='relu'),\n",
    "                    Dropout(0.25),\n",
    "                    Dense(1024, activation='relu'),\n",
    "                    Dense(7, activation='softmax', name = 'classifer')])\n",
    "model.summary()"
   ]
  },
  {
   "cell_type": "code",
   "execution_count": null,
   "metadata": {
    "colab": {
     "base_uri": "https://localhost:8080/"
    },
    "id": "xYZyl4Pz0qaR",
    "outputId": "de231e44-8d8d-4d34-de03-614a3fe234e3"
   },
   "outputs": [
    {
     "name": "stderr",
     "output_type": "stream",
     "text": [
      "/usr/local/lib/python3.6/dist-packages/tensorflow/python/keras/engine/training.py:1844: UserWarning: `Model.fit_generator` is deprecated and will be removed in a future version. Please use `Model.fit`, which supports generators.\n",
      "  warnings.warn('`Model.fit_generator` is deprecated and '\n"
     ]
    },
    {
     "name": "stdout",
     "output_type": "stream",
     "text": [
      "Epoch 1/20\n",
      "786/786 [==============================] - 154s 192ms/step - loss: 1.9076 - accuracy: 0.4971 - val_loss: 1.0861 - val_accuracy: 0.6004\n",
      "Epoch 2/20\n",
      "786/786 [==============================] - 150s 191ms/step - loss: 0.8740 - accuracy: 0.6777 - val_loss: 1.0205 - val_accuracy: 0.6242\n",
      "Epoch 3/20\n",
      "786/786 [==============================] - 150s 191ms/step - loss: 0.7432 - accuracy: 0.7282 - val_loss: 1.0091 - val_accuracy: 0.6401\n",
      "Epoch 4/20\n",
      "786/786 [==============================] - 150s 191ms/step - loss: 0.6504 - accuracy: 0.7645 - val_loss: 1.0222 - val_accuracy: 0.6350\n",
      "Epoch 5/20\n",
      "786/786 [==============================] - 150s 191ms/step - loss: 0.5788 - accuracy: 0.7882 - val_loss: 1.0510 - val_accuracy: 0.6429\n",
      "Epoch 6/20\n",
      "786/786 [==============================] - 150s 191ms/step - loss: 0.5093 - accuracy: 0.8166 - val_loss: 1.0759 - val_accuracy: 0.6395\n",
      "Epoch 7/20\n",
      "786/786 [==============================] - 150s 190ms/step - loss: 0.4599 - accuracy: 0.8371 - val_loss: 1.0718 - val_accuracy: 0.6529\n",
      "Epoch 8/20\n",
      "786/786 [==============================] - 150s 191ms/step - loss: 0.4140 - accuracy: 0.8543 - val_loss: 1.1057 - val_accuracy: 0.6498\n",
      "Epoch 9/20\n",
      "786/786 [==============================] - 150s 191ms/step - loss: 0.3893 - accuracy: 0.8632 - val_loss: 1.1896 - val_accuracy: 0.6532\n",
      "Epoch 10/20\n",
      "786/786 [==============================] - 150s 191ms/step - loss: 0.3683 - accuracy: 0.8715 - val_loss: 1.1735 - val_accuracy: 0.6384\n",
      "Epoch 11/20\n",
      "786/786 [==============================] - 150s 191ms/step - loss: 0.3385 - accuracy: 0.8836 - val_loss: 1.1985 - val_accuracy: 0.6484\n",
      "Epoch 12/20\n",
      "786/786 [==============================] - 150s 191ms/step - loss: 0.3108 - accuracy: 0.8918 - val_loss: 1.1543 - val_accuracy: 0.6621\n",
      "Epoch 13/20\n",
      "786/786 [==============================] - 150s 191ms/step - loss: 0.3056 - accuracy: 0.8965 - val_loss: 1.2258 - val_accuracy: 0.6543\n",
      "Epoch 14/20\n",
      "786/786 [==============================] - 150s 191ms/step - loss: 0.3059 - accuracy: 0.8955 - val_loss: 1.1781 - val_accuracy: 0.6599\n",
      "Epoch 15/20\n",
      "786/786 [==============================] - 150s 190ms/step - loss: 0.2747 - accuracy: 0.9067 - val_loss: 1.2335 - val_accuracy: 0.6652\n",
      "Epoch 16/20\n",
      "786/786 [==============================] - 150s 191ms/step - loss: 0.2657 - accuracy: 0.9104 - val_loss: 1.2068 - val_accuracy: 0.6694\n",
      "Epoch 17/20\n",
      "786/786 [==============================] - 150s 190ms/step - loss: 0.2628 - accuracy: 0.9115 - val_loss: 1.2369 - val_accuracy: 0.6688\n",
      "Epoch 18/20\n",
      "786/786 [==============================] - 150s 191ms/step - loss: 0.2566 - accuracy: 0.9126 - val_loss: 1.3170 - val_accuracy: 0.6722\n",
      "Epoch 19/20\n",
      "786/786 [==============================] - 150s 190ms/step - loss: 0.2512 - accuracy: 0.9130 - val_loss: 1.2973 - val_accuracy: 0.6643\n",
      "Epoch 20/20\n",
      "786/786 [==============================] - 150s 190ms/step - loss: 0.2308 - accuracy: 0.9200 - val_loss: 1.4073 - val_accuracy: 0.6607\n"
     ]
    }
   ],
   "source": [
    "model.compile(optimizer = keras.optimizers.Adam(), loss='categorical_crossentropy', metrics=['accuracy'])\n",
    "hist = model.fit_generator(generator = train_sequence,\n",
    "                           validation_data = val_sequence,\n",
    "                           epochs = 20)"
   ]
  },
  {
   "cell_type": "code",
   "execution_count": null,
   "metadata": {
    "id": "WI6yk8gLBraT"
   },
   "outputs": [],
   "source": [
    "import matplotlib.pyplot as plt\n"
   ]
  },
  {
   "cell_type": "code",
   "execution_count": null,
   "metadata": {
    "colab": {
     "base_uri": "https://localhost:8080/",
     "height": 228
    },
    "id": "OnE31jw80uMC",
    "outputId": "4f24254a-1e52-475f-e0c8-dfa380d5c510"
   },
   "outputs": [
    {
     "data": {
      "text/plain": [
       "[<matplotlib.lines.Line2D at 0x7f17e636e518>]"
      ]
     },
     "execution_count": 62,
     "metadata": {
      "tags": []
     },
     "output_type": "execute_result"
    },
    {
     "data": {
      "image/png": "[encoded data removed]",
      "text/plain": [
       "<Figure size 576x216 with 2 Axes>"
      ]
     },
     "metadata": {
      "needs_background": "light",
      "tags": []
     },
     "output_type": "display_data"
    }
   ],
   "source": [
    "plt.figure(figsize=(8,3))\n",
    "plt.subplot(1,2,1)\n",
    "plt.plot(hist.history['accuracy'])\n",
    "plt.plot(hist.history['val_accuracy'])\n",
    "plt.subplot(1,2,2)\n",
    "plt.plot(hist.history['loss'])\n",
    "plt.plot(hist.history['val_loss'])"
   ]
  },
  {
   "cell_type": "markdown",
   "metadata": {
    "id": "yFVrMtoIaOrH"
   },
   "source": []
  },
  {
   "cell_type": "code",
   "execution_count": null,
   "metadata": {
    "id": "hWNE19aFCBCT"
   },
   "outputs": [],
   "source": []
  },
  {
   "cell_type": "markdown",
   "metadata": {
    "id": "vH-8B4COzB3L"
   },
   "source": [
    "### finetune all layer, lr=1e-4"
   ]
  },
  {
   "cell_type": "code",
   "execution_count": null,
   "metadata": {
    "id": "WEMUr1wGzB3M"
   },
   "outputs": [],
   "source": [
    "for layer in model.layers[0].layers:\n",
    "    if 'bn' not in layer.name:\n",
    "        layer.trainable = True"
   ]
  },
  {
   "cell_type": "code",
   "execution_count": null,
   "metadata": {
    "colab": {
     "base_uri": "https://localhost:8080/"
    },
    "id": "u1xy-IyDzB3N",
    "outputId": "efdfa60c-031a-4b7e-9de7-607d685341f4"
   },
   "outputs": [
    {
     "name": "stderr",
     "output_type": "stream",
     "text": [
      "/usr/local/lib/python3.6/dist-packages/tensorflow/python/keras/engine/training.py:1844: UserWarning: `Model.fit_generator` is deprecated and will be removed in a future version. Please use `Model.fit`, which supports generators.\n",
      "  warnings.warn('`Model.fit_generator` is deprecated and '\n"
     ]
    },
    {
     "name": "stdout",
     "output_type": "stream",
     "text": [
      "Epoch 1/10\n",
      "786/786 [==============================] - 154s 193ms/step - loss: 0.1837 - accuracy: 0.9377 - val_loss: 1.4324 - val_accuracy: 0.6691\n",
      "Epoch 2/10\n",
      "786/786 [==============================] - 151s 192ms/step - loss: 0.1316 - accuracy: 0.9554 - val_loss: 1.4707 - val_accuracy: 0.6713\n",
      "Epoch 3/10\n",
      "786/786 [==============================] - 150s 191ms/step - loss: 0.1181 - accuracy: 0.9591 - val_loss: 1.4962 - val_accuracy: 0.6722\n",
      "Epoch 4/10\n",
      "786/786 [==============================] - 150s 191ms/step - loss: 0.1165 - accuracy: 0.9599 - val_loss: 1.4983 - val_accuracy: 0.6772\n",
      "Epoch 5/10\n",
      "786/786 [==============================] - 150s 191ms/step - loss: 0.1123 - accuracy: 0.9610 - val_loss: 1.5332 - val_accuracy: 0.6758\n",
      "Epoch 6/10\n",
      "786/786 [==============================] - 150s 191ms/step - loss: 0.1016 - accuracy: 0.9647 - val_loss: 1.5620 - val_accuracy: 0.6775\n",
      "Epoch 7/10\n",
      "786/786 [==============================] - 150s 191ms/step - loss: 0.1073 - accuracy: 0.9616 - val_loss: 1.5723 - val_accuracy: 0.6780\n",
      "Epoch 8/10\n",
      "786/786 [==============================] - 150s 191ms/step - loss: 0.0948 - accuracy: 0.9661 - val_loss: 1.5911 - val_accuracy: 0.6733\n",
      "Epoch 9/10\n",
      "786/786 [==============================] - 150s 191ms/step - loss: 0.0932 - accuracy: 0.9678 - val_loss: 1.6024 - val_accuracy: 0.6777\n",
      "Epoch 10/10\n",
      "786/786 [==============================] - 150s 191ms/step - loss: 0.0890 - accuracy: 0.9671 - val_loss: 1.6431 - val_accuracy: 0.6769\n"
     ]
    }
   ],
   "source": [
    "model.compile(optimizer = keras.optimizers.Adam(1e-4), loss='categorical_crossentropy', metrics=['accuracy'])\n",
    "hist2 = model.fit_generator(generator = train_sequence,\n",
    "                            validation_data = val_sequence,\n",
    "                            epochs = 10)"
   ]
  },
  {
   "cell_type": "code",
   "execution_count": null,
   "metadata": {
    "id": "zoZVUIfUzB3O"
   },
   "outputs": [],
   "source": [
    "for key in ['accuracy','val_accuracy','loss','val_loss']:\n",
    "    hist.history[key] = hist.history[key] + hist2.history[key]"
   ]
  },
  {
   "cell_type": "code",
   "execution_count": null,
   "metadata": {
    "colab": {
     "base_uri": "https://localhost:8080/",
     "height": 228
    },
    "id": "jvTsIYgezB3O",
    "outputId": "cb7dcf5d-cbde-4dd8-e514-660065081990"
   },
   "outputs": [
    {
     "data": {
      "text/plain": [
       "[<matplotlib.lines.Line2D at 0x7f17e567f198>]"
      ]
     },
     "execution_count": 66,
     "metadata": {
      "tags": []
     },
     "output_type": "execute_result"
    },
    {
     "data": {
      "image/png": "[encoded data removed]",
      "text/plain": [
       "<Figure size 576x216 with 2 Axes>"
      ]
     },
     "metadata": {
      "needs_background": "light",
      "tags": []
     },
     "output_type": "display_data"
    }
   ],
   "source": [
    "plt.figure(figsize=(8,3))\n",
    "plt.subplot(1,2,1)\n",
    "plt.plot(hist.history['accuracy'])\n",
    "plt.plot(hist.history['val_accuracy'])\n",
    "plt.subplot(1,2,2)\n",
    "plt.plot(hist.history['loss'])\n",
    "plt.plot(hist.history['val_loss'])"
   ]
  },
  {
   "cell_type": "code",
   "execution_count": null,
   "metadata": {
    "id": "ML3mvxiBCD_i"
   },
   "outputs": [],
   "source": []
  },
  {
   "cell_type": "markdown",
   "metadata": {
    "id": "-of2KuBuzB3P"
   },
   "source": [
    "### finetune further all, lr=1e-5"
   ]
  },
  {
   "cell_type": "code",
   "execution_count": null,
   "metadata": {
    "id": "Y9JUXfa3HzYq"
   },
   "outputs": [],
   "source": [
    "model = keras.models.load_model('saved_checkpoint/Checkpoint/VGGFACE2_CLEANED.h5')"
   ]
  },
  {
   "cell_type": "code",
   "execution_count": null,
   "metadata": {
    "colab": {
     "base_uri": "https://localhost:8080/"
    },
    "id": "DQrsxtHw1Wlr",
    "outputId": "74d1c785-03cc-490f-a848-dc67b71e5b45"
   },
   "outputs": [
    {
     "name": "stdout",
     "output_type": "stream",
     "text": [
      "Model: \"sequential_1\"\n",
      "_________________________________________________________________\n",
      "Layer (type)                 Output Shape              Param #   \n",
      "=================================================================\n",
      "vggface_resnet50 (Functional (None, 1, 1, 2048)        23561152  \n",
      "_________________________________________________________________\n",
      "flatten_1 (Flatten)          (None, 2048)              0         \n",
      "_________________________________________________________________\n",
      "dropout_2 (Dropout)          (None, 2048)              0         \n",
      "_________________________________________________________________\n",
      "dense_2 (Dense)              (None, 2048)              4196352   \n",
      "_________________________________________________________________\n",
      "dropout_3 (Dropout)          (None, 2048)              0         \n",
      "_________________________________________________________________\n",
      "dense_3 (Dense)              (None, 1024)              2098176   \n",
      "_________________________________________________________________\n",
      "classifer (Dense)            (None, 7)                 7175      \n",
      "=================================================================\n",
      "Total params: 29,862,855\n",
      "Trainable params: 29,756,615\n",
      "Non-trainable params: 106,240\n",
      "_________________________________________________________________\n"
     ]
    }
   ],
   "source": [
    "model.summary()"
   ]
  },
  {
   "cell_type": "code",
   "execution_count": null,
   "metadata": {
    "id": "S3GkAR_Rf_Sn"
   },
   "outputs": [],
   "source": [
    "from tensorflow.keras.callbacks import EarlyStopping, ModelCheckpoint\n",
    "\n",
    "es = EarlyStopping(monitor='val_loss', mode='min', verbose=1, patience=10, restore_best_weights=True)\n",
    "mc = ModelCheckpoint('saved_checkpoint/Checkpoint/VGGFACE2_CLEANED.h5', monitor='val_accuracy', mode='max', verbose=1, save_best_only=True)\n"
   ]
  },
  {
   "cell_type": "code",
   "execution_count": null,
   "metadata": {
    "colab": {
     "base_uri": "https://localhost:8080/"
    },
    "id": "wsocI8XazB3P",
    "outputId": "712e1e89-7776-47df-85d5-6d044360519e"
   },
   "outputs": [
    {
     "name": "stderr",
     "output_type": "stream",
     "text": [
      "/usr/local/lib/python3.6/dist-packages/tensorflow/python/keras/engine/training.py:1844: UserWarning: `Model.fit_generator` is deprecated and will be removed in a future version. Please use `Model.fit`, which supports generators.\n",
      "  warnings.warn('`Model.fit_generator` is deprecated and '\n"
     ]
    },
    {
     "name": "stdout",
     "output_type": "stream",
     "text": [
      "Epoch 1/20\n",
      "786/786 [==============================] - 1049s 1s/step - loss: 0.0776 - accuracy: 0.9735 - val_loss: 1.4132 - val_accuracy: 0.7006\n",
      "\n",
      "Epoch 00001: val_accuracy improved from -inf to 0.70061, saving model to saved_checkpoint/Checkpoint/VGGFACE2_CLEANED.h5\n",
      "Epoch 2/20\n",
      "786/786 [==============================] - 1044s 1s/step - loss: 0.0806 - accuracy: 0.9721 - val_loss: 1.3989 - val_accuracy: 0.7015\n",
      "\n",
      "Epoch 00002: val_accuracy improved from 0.70061 to 0.70145, saving model to saved_checkpoint/Checkpoint/VGGFACE2_CLEANED.h5\n",
      "Epoch 3/20\n",
      "786/786 [==============================] - 1044s 1s/step - loss: 0.0637 - accuracy: 0.9780 - val_loss: 1.3831 - val_accuracy: 0.6953\n",
      "\n",
      "Epoch 00003: val_accuracy did not improve from 0.70145\n",
      "Epoch 4/20\n",
      "786/786 [==============================] - 1045s 1s/step - loss: 0.0618 - accuracy: 0.9780 - val_loss: 1.3847 - val_accuracy: 0.6973\n",
      "\n",
      "Epoch 00004: val_accuracy did not improve from 0.70145\n",
      "Epoch 5/20\n",
      "786/786 [==============================] - 1047s 1s/step - loss: 0.0676 - accuracy: 0.9758 - val_loss: 1.3620 - val_accuracy: 0.7031\n",
      "\n",
      "Epoch 00005: val_accuracy improved from 0.70145 to 0.70312, saving model to saved_checkpoint/Checkpoint/VGGFACE2_CLEANED.h5\n",
      "Epoch 6/20\n",
      "786/786 [==============================] - 1046s 1s/step - loss: 0.0646 - accuracy: 0.9780 - val_loss: 1.3715 - val_accuracy: 0.6995\n",
      "\n",
      "Epoch 00006: val_accuracy did not improve from 0.70312\n",
      "Epoch 7/20\n",
      "786/786 [==============================] - 1047s 1s/step - loss: 0.0655 - accuracy: 0.9773 - val_loss: 1.4798 - val_accuracy: 0.7026\n",
      "\n",
      "Epoch 00007: val_accuracy did not improve from 0.70312\n",
      "Epoch 8/20\n",
      "786/786 [==============================] - 1047s 1s/step - loss: 0.0551 - accuracy: 0.9813 - val_loss: 1.4498 - val_accuracy: 0.6967\n",
      "\n",
      "Epoch 00008: val_accuracy did not improve from 0.70312\n",
      "Epoch 9/20\n",
      "559/786 [====================>.........] - ETA: 4:55 - loss: 0.0590 - accuracy: 0.9802"
     ]
    }
   ],
   "source": [
    "model.compile(optimizer = keras.optimizers.Adam(1e-5), loss='categorical_crossentropy', metrics=['accuracy'])\n",
    "hist3 = model.fit_generator(generator = train_sequence,\n",
    "                            validation_data = val_sequence,\n",
    "                            epochs = 20,\n",
    "                            callbacks=[es,mc])"
   ]
  },
  {
   "cell_type": "code",
   "execution_count": null,
   "metadata": {
    "colab": {
     "background_save": true
    },
    "id": "idwFUguyzB3R"
   },
   "outputs": [],
   "source": [
    "for key in ['accuracy','val_accuracy','loss','val_loss']:\n",
    "    hist.history[key] = hist.history[key] + hist3.history[key]"
   ]
  },
  {
   "cell_type": "code",
   "execution_count": null,
   "metadata": {
    "colab": {
     "background_save": true
    },
    "id": "5o6sC2w-zB3R",
    "outputId": "eae1c9fd-f263-4821-d3dc-5a5addeb27fe"
   },
   "outputs": [
    {
     "data": {
      "text/plain": [
       "[<matplotlib.lines.Line2D at 0x7f9809112240>]"
      ]
     },
     "execution_count": 0,
     "metadata": {
      "tags": []
     },
     "output_type": "execute_result"
    },
    {
     "data": {
      "image/png": "[encoded data removed]",
      "text/plain": [
       "<Figure size 576x216 with 2 Axes>"
      ]
     },
     "metadata": {
      "tags": []
     },
     "output_type": "display_data"
    }
   ],
   "source": [
    "plt.figure(figsize=(8,3))\n",
    "plt.subplot(1,2,1)\n",
    "plt.plot(hist.history['accuracy'])\n",
    "plt.plot(hist.history['val_accuracy'])\n",
    "plt.subplot(1,2,2)\n",
    "plt.plot(hist.history['loss'])\n",
    "plt.plot(hist.history['val_loss'])"
   ]
  },
  {
   "cell_type": "code",
   "execution_count": null,
   "metadata": {
    "id": "WjfSNuUXOsZt"
   },
   "outputs": [],
   "source": []
  },
  {
   "cell_type": "markdown",
   "metadata": {
    "id": "lLghk77nzB3S"
   },
   "source": [
    "# model test"
   ]
  },
  {
   "cell_type": "code",
   "execution_count": 16,
   "metadata": {
    "id": "AulAWbrezDAP"
   },
   "outputs": [],
   "source": [
    "model = keras.models.load_model('saved_checkpoint/Checkpoint/VGGFACE2_CLEANED.h5')"
   ]
  },
  {
   "cell_type": "code",
   "execution_count": 17,
   "metadata": {
    "id": "AObiHwwid3PG"
   },
   "outputs": [],
   "source": [
    "test_sequence  = data_sequence(X_processed_test, y_test_onehot, batch_size=37,target_dim=(224,224),n_classes=7,shuffle=False,smooth=0.0)"
   ]
  },
  {
   "cell_type": "code",
   "execution_count": 19,
   "metadata": {
    "colab": {
     "base_uri": "https://localhost:8080/"
    },
    "id": "yqWt6aiNYLru",
    "outputId": "ebb73db3-c42d-4e99-b605-d63d3bbbd77e"
   },
   "outputs": [
    {
     "name": "stdout",
     "output_type": "stream",
     "text": [
      "56/56 [==============================] - 8s 131ms/step - loss: 1.3638 - accuracy: 0.7031\n"
     ]
    },
    {
     "data": {
      "text/plain": [
       "[1.3637608289718628, 0.703125]"
      ]
     },
     "execution_count": 19,
     "metadata": {
      "tags": []
     },
     "output_type": "execute_result"
    }
   ],
   "source": [
    "model.evaluate(val_sequence)"
   ]
  },
  {
   "cell_type": "code",
   "execution_count": 18,
   "metadata": {
    "colab": {
     "base_uri": "https://localhost:8080/"
    },
    "id": "eXLcPFDgzB3S",
    "outputId": "2c2d9065-38e1-45ac-d988-89585cccac7d"
   },
   "outputs": [
    {
     "name": "stdout",
     "output_type": "stream",
     "text": [
      "97/97 [==============================] - 15s 82ms/step - loss: 1.1866 - accuracy: 0.7183\n"
     ]
    },
    {
     "data": {
      "text/plain": [
       "[1.1865606307983398, 0.7183059453964233]"
      ]
     },
     "execution_count": 18,
     "metadata": {
      "tags": []
     },
     "output_type": "execute_result"
    }
   ],
   "source": [
    "model.evaluate(test_sequence)"
   ]
  },
  {
   "cell_type": "markdown",
   "metadata": {
    "id": "kuH5X6U6zB3W"
   },
   "source": [
    "### Confusion matrix"
   ]
  },
  {
   "cell_type": "code",
   "execution_count": null,
   "metadata": {
    "id": "K9e4dI6QzB3W"
   },
   "outputs": [],
   "source": [
    "import tensorflow as tf\n",
    "y_pred = []\n",
    "for x,y in test_sequence:\n",
    "    y_pred = y_pred + list(np.argmax(model.predict(x), axis=-1))"
   ]
  },
  {
   "cell_type": "code",
   "execution_count": null,
   "metadata": {
    "colab": {
     "base_uri": "https://localhost:8080/"
    },
    "id": "g7C67UXKst3B",
    "outputId": "a8e242a0-58b2-42de-9b3d-450b3fa6c61c"
   },
   "outputs": [
    {
     "data": {
      "text/plain": [
       "0.7183059348007802"
      ]
     },
     "execution_count": 46,
     "metadata": {
      "tags": []
     },
     "output_type": "execute_result"
    }
   ],
   "source": [
    "from sklearn.metrics import accuracy_score\n",
    "\n",
    "accuracy_score(y_test,y_pred)"
   ]
  },
  {
   "cell_type": "code",
   "execution_count": null,
   "metadata": {
    "id": "48hDMInmzB3Y"
   },
   "outputs": [],
   "source": [
    "import pandas as pd\n",
    "\n",
    "confusion_matrix = tf.math.confusion_matrix(labels=y_test, predictions=y_pred).numpy()\n",
    "confusion_matrix = np.around(confusion_matrix.astype('float') / confusion_matrix.sum(axis=1)[:, np.newaxis], decimals=2)\n",
    "\n",
    "confusion_matrix = pd.DataFrame(confusion_matrix,\n",
    "                                index = class_names, \n",
    "                                columns = class_names)"
   ]
  },
  {
   "cell_type": "code",
   "execution_count": null,
   "metadata": {
    "colab": {
     "base_uri": "https://localhost:8080/",
     "height": 599
    },
    "id": "JFTLo2VXzB3Y",
    "outputId": "79391a53-df86-414a-f7b3-47fdd96d2499"
   },
   "outputs": [
    {
     "data": {
      "image/png": "[encoded data removed]",
      "text/plain": [
       "<Figure size 576x576 with 2 Axes>"
      ]
     },
     "metadata": {
      "needs_background": "light",
      "tags": []
     },
     "output_type": "display_data"
    }
   ],
   "source": [
    "import seaborn as sns\n",
    "import matplotlib.pyplot as plt\n",
    "\n",
    "figure = plt.figure(figsize=(8, 8))\n",
    "sns.heatmap(confusion_matrix, annot=True,cmap=plt.cm.Blues)\n",
    "plt.tight_layout()\n",
    "plt.ylabel('True label')\n",
    "plt.xlabel('Predicted label')\n",
    "plt.show()"
   ]
  },
  {
   "cell_type": "code",
   "execution_count": null,
   "metadata": {
    "id": "CGzWFgYYtni8"
   },
   "outputs": [],
   "source": []
  }
 ],
 "metadata": {
  "accelerator": "GPU",
  "colab": {
   "collapsed_sections": [],
   "name": "TN5_VGGFACE2_v1_RandomOverSampling.ipynb",
   "provenance": [],
   "toc_visible": true
  },
  "kernelspec": {
   "display_name": "Python 3",
   "language": "python",
   "name": "python3"
  },
  "language_info": {
   "codemirror_mode": {
    "name": "ipython",
    "version": 3
   },
   "file_extension": ".py",
   "mimetype": "text/x-python",
   "name": "python",
   "nbconvert_exporter": "python",
   "pygments_lexer": "ipython3",
   "version": "3.7.9"
  }
 },
 "nbformat": 4,
 "nbformat_minor": 1
}
